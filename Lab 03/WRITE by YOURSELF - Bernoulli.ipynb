{
 "cells": [
  {
   "cell_type": "markdown",
   "metadata": {},
   "source": [
    "# Chapter 2: Probability Distributions"
   ]
  },
  {
   "cell_type": "code",
   "execution_count": null,
   "metadata": {},
   "outputs": [],
   "source": [
    "## Import libraries"
   ]
  },
  {
   "cell_type": "markdown",
   "metadata": {},
   "source": [
    "## Bernoulli Distribution\n",
    "\n",
    "$\\Large 𝑝(𝐷│\\mu)=\\prod_{𝑛=1}^𝑁{\\mu^{𝑥_𝑛}(1−\\mu)^{1−𝑥_𝑛}}$\n",
    "\n",
    "$\\Large \\mu_{ML} = \\frac{1}{N} \\sum_{n=1}^N{x_n}$"
   ]
  },
  {
   "cell_type": "markdown",
   "metadata": {},
   "source": [
    "**Steps**\n",
    "\n",
    "1.  Import the Bernoulli class: `from prml.rv import Bernoulli`\n",
    "\n",
    "2.  Create a dataset of three 1s and one 0: `dataset = np.array([0., 1., 1., 1.])`\n",
    "\n",
    "3.  Plot the dataset as a bar graph:\n",
    "    ```\n",
    "    count_0 = len(dataset[dataset == 0.])\n",
    "    count_1 = len(dataset[dataset == 1.])\n",
    "    plt.bar(['0', '1'], [count_0, count_1], color='b')  \n",
    "    ```\n",
    "4.  Create a Bernoulli model: `model = Bernoulli()`\n",
    "\n",
    "5.  Fit the model to the dataset: `model.fit(dataset)`\n",
    "\n",
    "6.  Print the $\\mu_{ML}$: `print(model)`"
   ]
  },
  {
   "cell_type": "code",
   "execution_count": null,
   "metadata": {},
   "outputs": [],
   "source": [
    "## Code goes here..."
   ]
  },
  {
   "cell_type": "markdown",
   "metadata": {},
   "source": [
    "#### Let's do an experiment and test how the model can randomly draw 0 or 1 values. We will do 1000 experiment. \n",
    "\n",
    "**Steps**\n",
    "1.  Create an empty list to hold the randomly drawn values: `samples = []`\n",
    "\n",
    "2.  Do 1000 experiment by drawing a number from the model: \n",
    "    \n",
    "    ```\n",
    "    num_exper = 1000\n",
    "    for i in range(num_exper):\n",
    "        samples.append(model.draw())\n",
    "    ```\n",
    "    \n",
    "3.  Count the number of 0s in the list: `count_0 = samples.count(0)`\n",
    "\n",
    "4.  Count the number of 1s in the list: `count_1 = samples.count(1)`\n",
    "\n",
    "5.  Compute the likelihood of getting 0: `prop_0 = count_0 / num_exper`\n",
    "\n",
    "6.  Compute the likelihood of getting 1: `prop_1 = count_1 / num_exper`\n",
    "\n",
    "7.  Print the $\\mu_{ML}$: `print(model)`"
   ]
  },
  {
   "cell_type": "code",
   "execution_count": null,
   "metadata": {},
   "outputs": [],
   "source": [
    "## Code goes here..."
   ]
  },
  {
   "cell_type": "markdown",
   "metadata": {},
   "source": [
    "#### What if we have a dataset like this dataset = [1., 1., 1., 1.]"
   ]
  },
  {
   "cell_type": "markdown",
   "metadata": {},
   "source": [
    "**Steps**\n",
    "\n",
    "1.  Create a dataset of three 1s and one 0: `dataset = np.array([1., 1., 1., 1.])`\n",
    "\n",
    "2.  Plot the dataset as a bar graph:\n",
    "    ```\n",
    "    count_0 = len(dataset[dataset == 0.])\n",
    "    count_1 = len(dataset[dataset == 1.])\n",
    "    plt.bar(['0', '1'], [count_0, count_1], color='b')  \n",
    "    ```\n",
    "3.  Create a Bernoulli model: `model = Bernoulli()`\n",
    "\n",
    "4.  Fit the model to the dataset: `model.fit(dataset)`\n",
    "\n",
    "5.  Print the $\\mu_{ML}$: `print(model)`\n",
    "\n",
    "**If we have data for 4 random experiments that all have 1s. Does it mean we never have 0s?**"
   ]
  },
  {
   "cell_type": "code",
   "execution_count": null,
   "metadata": {},
   "outputs": [],
   "source": [
    "## Code goes here...\n"
   ]
  },
  {
   "cell_type": "markdown",
   "metadata": {},
   "source": [
    "**The model has $\\mu=1.0$, it means that it will not predict any zeros!**\n",
    "\n",
    "Let's experiment it!\n",
    "\n",
    "**Steps**\n",
    "1.  Create an empty list to hold the randomly drawn values: `samples = []`\n",
    "\n",
    "2.  Do 1000 experiment by drawing a number from the model: \n",
    "    \n",
    "    ```\n",
    "    num_exper = 1000\n",
    "    for i in range(num_exper):\n",
    "        samples.append(model.draw())\n",
    "    ```\n",
    "    \n",
    "3.  Count the number of 0s in the list: `count_0 = samples.count(0)`\n",
    "\n",
    "4.  Count the number of 1s in the list: `count_1 = samples.count(1)`\n",
    "\n",
    "5.  Compute the likelihood of getting 0: `prop_0 = count_0 / num_exper`\n",
    "\n",
    "6.  Compute the likelihood of getting 1: `prop_1 = count_1 / num_exper`"
   ]
  },
  {
   "cell_type": "code",
   "execution_count": null,
   "metadata": {},
   "outputs": [],
   "source": [
    "## Code goes here...\n"
   ]
  }
 ],
 "metadata": {
  "kernelspec": {
   "display_name": "Python 3.8.8 ('base')",
   "language": "python",
   "name": "python3"
  },
  "language_info": {
   "codemirror_mode": {
    "name": "ipython",
    "version": 3
   },
   "file_extension": ".py",
   "mimetype": "text/x-python",
   "name": "python",
   "nbconvert_exporter": "python",
   "pygments_lexer": "ipython3",
   "version": "3.8.8"
  },
  "orig_nbformat": 4,
  "vscode": {
   "interpreter": {
    "hash": "0b4ffc9c9a031070cdf645d18822cd1abb711111454341ec96112cbb04136171"
   }
  }
 },
 "nbformat": 4,
 "nbformat_minor": 2
}
