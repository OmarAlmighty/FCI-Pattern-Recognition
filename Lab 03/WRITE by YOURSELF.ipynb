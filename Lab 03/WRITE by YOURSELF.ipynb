{
 "cells": [
  {
   "cell_type": "markdown",
   "metadata": {},
   "source": [
    "# Chapter 2: Probability Distributions"
   ]
  },
  {
   "cell_type": "code",
   "execution_count": null,
   "metadata": {},
   "outputs": [],
   "source": [
    "import sys\n",
    "import numpy as np\n",
    "import matplotlib.pyplot as plt\n",
    "np.random.seed(1234)\n",
    "# import the prml package\n",
    "# sys.path.append('F:\\\\fci\\\\Pattern Recognation\\\\Week 03 - Introduction')\n",
    "from prml.rv import Bernoulli\n",
    "from prml.rv import Beta\n",
    "from prml.rv import Categorical\n",
    "from prml.rv import Dirichlet"
   ]
  },
  {
   "cell_type": "markdown",
   "metadata": {},
   "source": [
    "## Bernoulli Distribution\n",
    "\n",
    "$\\Large 𝑝(𝐷│\\mu)=\\prod_{𝑛=1}^𝑁{\\mu^{𝑥_𝑛}(1−\\mu)^{1−𝑥_𝑛}}$\n",
    "\n",
    "$\\Large \\mu_{ML} = \\frac{1}{N} \\sum_{n=1}^N{x_n}$"
   ]
  },
  {
   "cell_type": "markdown",
   "metadata": {},
   "source": [
    "**Steps**\n",
    "\n",
    "1.  Import the Bernoulli class: `from prml.rv import Bernoulli`\n",
    "\n",
    "2.  Create a dataset of three 1s and one 0: `dataset = np.array([0., 1., 1., 1.])`\n",
    "\n",
    "3.  Plot the dataset as a bar graph:\n",
    "    ```\n",
    "    count_0 = len(dataset[dataset == 0.])\n",
    "    count_1 = len(dataset[dataset == 1.])\n",
    "    plt.bar(['0', '1'], [count_0, count_1], color='b')  \n",
    "    ```\n",
    "4.  Create a Bernoulli model: `model = Bernoulli()`\n",
    "\n",
    "5.  Fit the model to the dataset: `model.fit(dataset)`\n",
    "\n",
    "6.  Print the $\\mu_{ML}$: `print(model)`"
   ]
  },
  {
   "cell_type": "code",
   "execution_count": null,
   "metadata": {},
   "outputs": [],
   "source": [
    "from prml.rv import Bernoulli\n",
    "\n",
    "# create the dataset\n",
    "dataset = np.array([0., 1., 1., 1.])\n",
    "\n",
    "# plot the dataset\n",
    "count_0 = len(dataset[dataset == 0.])\n",
    "count_1 = len(dataset[dataset == 1.])\n",
    "plt.bar(['0', '1'], [count_0, count_1], color='b')\n",
    "\n",
    "# fit a Bernoulli model\n",
    "model = Bernoulli()\n",
    "model.fit(dataset)\n",
    "\n",
    "print(model)  # prints mu, which is the probability that we get x=1\n",
    "plt.show()\n"
   ]
  },
  {
   "cell_type": "markdown",
   "metadata": {},
   "source": [
    "#### Let's do an experiment and test how the model can randomly draw 0 or 1 values. We will do 1000 experiment. \n",
    "\n",
    "**Steps**\n",
    "1.  Create an empty list to hold the randomly drawn values: `samples = []`\n",
    "\n",
    "2.  Do 1000 experiment by drawing a number from the model: \n",
    "    \n",
    "    ```\n",
    "    num_exper = 1000\n",
    "    for i in range(num_exper):\n",
    "        samples.append(model.draw())\n",
    "    ```\n",
    "    \n",
    "3.  Count the number of 0s in the list: `count_0 = samples.count(0)`\n",
    "\n",
    "4.  Count the number of 1s in the list: `count_1 = samples.count(1)`\n",
    "\n",
    "5.  Compute the likelihood of getting 0: `prop_0 = count_0 / num_exper`\n",
    "\n",
    "6.  Compute the likelihood of getting 1: `prop_1 = count_1 / num_exper`\n",
    "\n",
    "7.  Print the $\\mu_{ML}$: `print(model)`"
   ]
  },
  {
   "cell_type": "code",
   "execution_count": null,
   "metadata": {},
   "outputs": [],
   "source": [
    "samples = []  # the drawn values\n",
    "num_exper = 1000\n",
    "\n",
    "for i in range(num_exper):  # draw a random variable from the model and store it in the list\n",
    "    samples.append(model.draw())\n",
    "\n",
    "count_0 = samples.count(0)  # number of zeros\n",
    "count_1 = samples.count(1)  # number of ones\n",
    "prop_0 = count_0 / num_exper  # Proportion of zeros\n",
    "prop_1 = count_1 / num_exper  # Proportion of ones\n",
    "print(\"The number of zeros:\", count_0)\n",
    "print(\"The number of ones:\", count_1)\n",
    "print(\"The proportion of zeros: \", prop_0)\n",
    "print(\"The proportion of ones\", prop_1)\n",
    "\n",
    "print(model)\n"
   ]
  },
  {
   "cell_type": "markdown",
   "metadata": {},
   "source": [
    "#### What if we have a dataset like this dataset = [1., 1., 1., 1.]"
   ]
  },
  {
   "cell_type": "markdown",
   "metadata": {},
   "source": [
    "**Steps**\n",
    "\n",
    "1.  Create a dataset of three 1s and one 0: `dataset = np.array([1., 1., 1., 1.])`\n",
    "\n",
    "2.  Plot the dataset as a bar graph:\n",
    "    ```\n",
    "    count_0 = len(dataset[dataset == 0.])\n",
    "    count_1 = len(dataset[dataset == 1.])\n",
    "    plt.bar(['0', '1'], [count_0, count_1], color='b')  \n",
    "    ```\n",
    "3.  Create a Bernoulli model: `model = Bernoulli()`\n",
    "\n",
    "4.  Fit the model to the dataset: `model.fit(dataset)`\n",
    "\n",
    "5.  Print the $\\mu_{ML}$: `print(model)`\n",
    "\n",
    "If we have data for 4 random experiments that all have 1s. Does it mean we never have 0s?"
   ]
  },
  {
   "cell_type": "code",
   "execution_count": null,
   "metadata": {},
   "outputs": [],
   "source": [
    "# create the dataset\n",
    "dataset = np.array([1., 1., 1., 1.])\n",
    "\n",
    "# plot the dataset\n",
    "count_0 = len(dataset[dataset == 0.])\n",
    "count_1 = len(dataset[dataset == 1.])\n",
    "plt.bar(['0', '1'], [count_0, count_1], color='b')\n",
    "\n",
    "# fit a Bernoulli model\n",
    "model = Bernoulli()\n",
    "model.fit(dataset)\n",
    "\n",
    "print(model)  # prints mu, which is the probability that we get x=1\n",
    "plt.show()\n"
   ]
  },
  {
   "cell_type": "markdown",
   "metadata": {},
   "source": [
    "The model has $\\mu=1.0$, it means that it will not predict any zeros! \n",
    "\n",
    "Let's experiment it!\n",
    "\n",
    "**Steps**\n",
    "1.  Create an empty list to hold the randomly drawn values: `samples = []`\n",
    "\n",
    "2.  Do 1000 experiment by drawing a number from the model: \n",
    "    \n",
    "    ```\n",
    "    num_exper = 1000\n",
    "    for i in range(num_exper):\n",
    "        samples.append(model.draw())\n",
    "    ```\n",
    "    \n",
    "3.  Count the number of 0s in the list: `count_0 = samples.count(0)`\n",
    "\n",
    "4.  Count the number of 1s in the list: `count_1 = samples.count(1)`\n",
    "\n",
    "5.  Compute the likelihood of getting 0: `prop_0 = count_0 / num_exper`\n",
    "\n",
    "6.  Compute the likelihood of getting 1: `prop_1 = count_1 / num_exper`"
   ]
  },
  {
   "cell_type": "code",
   "execution_count": null,
   "metadata": {},
   "outputs": [],
   "source": [
    "dataset = np.array([1., 1., 1., 1.])\n",
    "\n",
    "# plot the dataset\n",
    "count_0 = len(dataset[dataset == 0.])\n",
    "count_1 = len(dataset[dataset == 1.])\n",
    "plt.bar(['0', '1'], [count_0, count_1], color='b')\n",
    "\n",
    "# fit a Bernoulli model\n",
    "model = Bernoulli()\n",
    "model.fit(dataset)\n",
    "\n",
    "print(model)  # prints mu, which is the probability that we get x=1\n",
    "plt.show()\n",
    "\n",
    "samples = []  # the drawn values\n",
    "num_exper = 1000\n",
    "\n",
    "for i in range(num_exper):  # draw a random variable from the model and store it in the list\n",
    "    samples.append(model.draw())\n",
    "\n",
    "count_0 = samples.count(0)  # number of zeros\n",
    "count_1 = samples.count(1)  # number of ones\n",
    "prop_0 = count_0 / num_exper  # Proportion of zeros\n",
    "prop_1 = count_1 / num_exper  # Proportion of ones\n",
    "\n",
    "# This causes overfitting\n",
    "print(\"The number of zeros:\", count_0)\n",
    "print(\"The number of ones:\", count_1)\n",
    "print(\"The proportion of zeros: \", prop_0)\n",
    "print(\"The proportion of ones\", prop_1)\n"
   ]
  },
  {
   "cell_type": "markdown",
   "metadata": {},
   "source": [
    "## Beta Distribution\n",
    "\n",
    "$\\Large 𝐵𝑒𝑡𝑎(\\mu│𝑎, 𝑏)=\\frac{\\Gamma (𝑎+𝑏)}{(\\Gamma (𝑎)*\\Gamma(𝑏))}  * ( \\mu^{𝑎−1} (1−\\mu)^{𝑏−1})$\n",
    "\n",
    "$a$ and $b$ are hyperparameter that controls the distribution."
   ]
  },
  {
   "cell_type": "markdown",
   "metadata": {},
   "source": [
    "Plot the beta distribution for different values of [a, b] = [0.1, 0.1], [1, 1], [2, 3], [8, 4]\n",
    "\n",
    "**Steps**\n",
    "\n",
    "1.  Create 100 number between 0 and 1: `x = np.linspace(0, 1, 100)` \n",
    "\n",
    "2.  Loop through the [a, b] values: `for i, [a, b] in enumerate([ [0.1, 0.1], [1, 1], [2, 3], [8, 4] ]):`\n",
    "\n",
    "    1.  create a subplot: `plt.subplot(2, 2, i+1)`\n",
    "\n",
    "    2.  Define a beta distribution model given [a, b]: `beta = Beta(a, b)`\n",
    "\n",
    "    3.  Compute the PDF of the beta distribution: `pdf = beta.pdf(x)`\n",
    "\n",
    "    4.  Plot the x-values against the PDF: `plt.plot(x, pdf, c='r')`\n",
    "\n",
    "    5. Set the limits of the figure:\n",
    "        ```\n",
    "        plt.xlim(0, 1)\n",
    "        plt.ylim(0, 3)\n",
    "        ```\n",
    "\n",
    "    6. Add annotations to the figure: \n",
    "        ```\n",
    "        plt.annotate(\"a={}\".format(a), (0.1, 2.5))\n",
    "        plt.annotate(\"b={}\".format(b), (0.1, 2.1))\n",
    "        ```"
   ]
  },
  {
   "cell_type": "code",
   "execution_count": null,
   "metadata": {},
   "outputs": [],
   "source": [
    "## Code goes here\n"
   ]
  },
  {
   "cell_type": "markdown",
   "metadata": {},
   "source": [
    "Let's combine the prior distribution of the $\\mu$ (beta distribution) with overfitted Bernoulli distribution.\n",
    "\n",
    "**Steps**\n",
    "\n",
    "1.  Create 100 element values between 0 and 1 for plotting: `x = np.linspace(0, 1, 100)` \n",
    "\n",
    "2.  Create a beta distribution with a=2 and b=2: `beta = Beta(2, 2)`\n",
    "\n",
    "3.  Compute the PDF of the beta distribution: `pdf_beta = beta.pdf(x)`\n",
    "\n",
    "4.  Create a Bernoulli distribution with $\\mu=beta$: `model = Bernoulli(mu=beta)`\n",
    "\n",
    "5.  Create a sample dataset of only the element 1: `sample = np.array([1.])`\n",
    "\n",
    "6.  Fit the Bernoulli model to the dataset: `model.fit(sample)`\n",
    "\n",
    "7.  Compute the PDF of the Bernoulli model: `pdf_bern = model.mu.pdf(x)`\n",
    "\n",
    "8.  Plot the prior distribution of beta:\n",
    "     ```\n",
    "     plt.subplot(1, 3, 1)\n",
    "     plt.xlim(0, 1)\n",
    "     plt.ylim(0, 2)\n",
    "     plt.plot(x, pdf, c='r')\n",
    "     plt.annotate('prior', (0.1, 1.5))\n",
    "     ```\n",
    "9.  Plot the likelihood:\n",
    "     ```\n",
    "     plt.subplot(1, 3, 2)\n",
    "     plt.xlim(0, 1)\n",
    "     plt.ylim(0, 2)\n",
    "     plt.plot(x, x, c='b')\n",
    "     plt.annotate('likelihood', (0.1, 1.5))\n",
    "     ```\n",
    "\n",
    "10.  Plot the x-values against the PDF of the Bernoulli model:\n",
    "     ```\n",
    "     plt.subplot(1, 3, 3)\n",
    "     plt.xlim(0, 1)\n",
    "     plt.ylim(0, 2)\n",
    "     plt.plot(x, pdf, c='r')\n",
    "     plt.annotate(\"posterior\", (0.1, 1.5))\n",
    "     ```\n"
   ]
  },
  {
   "cell_type": "code",
   "execution_count": null,
   "metadata": {},
   "outputs": [],
   "source": [
    "## Code goes here\n"
   ]
  },
  {
   "cell_type": "markdown",
   "metadata": {},
   "source": [
    " Experiment the beta distribution with overfitted Bernoulli\n",
    "\n",
    " **Steps**\n",
    "\n",
    " 1. Create an empty set to hold the drawn samples: `samples = []`\n",
    "\n",
    " 2. Define the number of experiments to 1000: `num_exper = 1000`\n",
    "\n",
    " 3. Define a Bernoulli distribution with $\\mu=beta$: `model = Bernoulli(mu=beta)`\n",
    "\n",
    " 4. Do the 1000 experiment:\n",
    "\n",
    "    ```\n",
    "    for i in range(num_exper):\n",
    "            samples.append(model.draw())\n",
    "    ```\n",
    "\n",
    " 5. Count the number of 0s: `count_0 = samples.count(0)`\n",
    "\n",
    " 6. Count the number of 1s: `count_1 = samples.count(1)`\n",
    "\n",
    " 7. Compute the proportion of 0s: `prop_0 = count_0 / num_exper`\n",
    "\n",
    " 8. Compute the proportion of 1s: `prop_1 = count_1 / num_exper`"
   ]
  },
  {
   "cell_type": "code",
   "execution_count": null,
   "metadata": {},
   "outputs": [],
   "source": [
    "## Code goes here\n"
   ]
  },
  {
   "cell_type": "markdown",
   "metadata": {},
   "source": [
    "Compare the maximum likelihood estimation and the Bayesian estimation\n",
    "\n",
    "**Steps**\n",
    "\n",
    "1.  Define a Bernoulli model: `model = Bernoulli()`\n",
    "\n",
    "2.  Fit the model to the dataset of [1]: `model.fit(np.array([1]))`\n",
    "\n",
    "3.  Print the number of 1s drawn from the distribution: `print(\"{} out of 10000 is 1\".format(model.draw(10000).sum()))`\n",
    "\n",
    "4.  Define a Bernoulli distribution with $\\mu=Beta(1,1)$: `model = Bernoulli(mu=Beta(1, 1))`\n",
    "\n",
    "5.  Fit the model to the dataset of [1]: `model.fit(np.array([1]))`    \n",
    "\n",
    "6.  Print the number of 1s drawn from the distribution: `print(\"{} out of 10000 is 1\".format(model.draw(10000).sum()))`"
   ]
  },
  {
   "cell_type": "code",
   "execution_count": null,
   "metadata": {},
   "outputs": [],
   "source": [
    "## Code goes here\n"
   ]
  },
  {
   "cell_type": "markdown",
   "metadata": {},
   "source": [
    "## Dirichlet Distribution\n",
    "\n",
    "![formula](img.PNG)"
   ]
  },
  {
   "cell_type": "markdown",
   "metadata": {},
   "source": [
    "Define a multinomial (categorical distribution) that fits a dataset as the following\n",
    "\n",
    "\n",
    "| **x**    | $x_1$ | $x_2$ | $x_3$ |\n",
    "|----------|-----|-----|-----|\n",
    "| sample 1 | 0   | 1   | 0   |\n",
    "| sample 2 | 1   | 0   | 0   |\n",
    "| sample 3 | 1   | 0   | 0   |\n",
    "| sample 4 | 0   | 0   | 1   |\n",
    "\n",
    "for each feature $x$: \n",
    "\n",
    "$\\Large ~~~~~~~~~~~\\mu= \\frac {number~of~samples~with ~ x=1}{total~number~of~samples}$"
   ]
  },
  {
   "cell_type": "markdown",
   "metadata": {},
   "source": [
    "**Steps**\n",
    "\n",
    "1.  Create a Categorical model: `model = Categorical()`\n",
    "\n",
    "2.  Create the dataset: `dataset = np.array([ [0,1,0], [1,0,0], [1,0,0], [0,0,1], ])`\n",
    "\n",
    "3.  Fit the model to the dataset: `model.fit(dataset)`\n",
    "\n",
    "4.  Print the model: `print(model)`"
   ]
  },
  {
   "cell_type": "code",
   "execution_count": null,
   "metadata": {},
   "outputs": [],
   "source": [
    "## Code goes here\n"
   ]
  },
  {
   "cell_type": "markdown",
   "metadata": {},
   "source": [
    "Draw 1000 random variable from the distribution\n",
    "\n",
    "**Steps**\n",
    "\n",
    "1.  Define the number of experiments: `num_exper = 1000`\n",
    "\n",
    "2.  Create an empty list to hold the drawn values: `samples = []`\n",
    "\n",
    "3.  Draw the samples:\n",
    "\n",
    "    ```\n",
    "    for i in range(num_exper):\n",
    "        samples.append(model.draw())\n",
    "    ```\n",
    "\n",
    "4.  Convert the samples into a 100\\*1\\*3 array: `samples = np.array(samples)`\n",
    "\n",
    "5.  Compute the count of occurrence of each feature:\n",
    "    \n",
    "    ```\n",
    "    x_1 = samples[:,:,0].sum()\n",
    "    x_2 = samples[:,:,1].sum()\n",
    "    x_3 = samples[:,:,2].sum()\n",
    "    print(x_1/num_exper)\n",
    "    print(x_2/num_exper)\n",
    "    print(x_3/num_exper)\n",
    "    ```"
   ]
  },
  {
   "cell_type": "code",
   "execution_count": null,
   "metadata": {},
   "outputs": [],
   "source": [
    "## Code goes here\n"
   ]
  },
  {
   "cell_type": "markdown",
   "metadata": {},
   "source": [
    "Let's try another inbalanced dataset\n",
    "\n",
    "| **x**    | $x_1$ | $x_2$ | $x_3$ |\n",
    "|----------|-----|-----|-----|\n",
    "| sample 1 | 0   | 0   | 1   |\n",
    "| sample 2 | 0   | 0   | 1   |\n",
    "| sample 3 | 0   | 0   | 1   |\n",
    "| sample 4 | 0   | 0   | 1   |\n",
    "\n",
    "The model overfits the data"
   ]
  },
  {
   "cell_type": "code",
   "execution_count": null,
   "metadata": {},
   "outputs": [],
   "source": [
    "## Code goes here\n"
   ]
  },
  {
   "cell_type": "code",
   "execution_count": null,
   "metadata": {},
   "outputs": [],
   "source": []
  },
  {
   "cell_type": "markdown",
   "metadata": {},
   "source": [
    "Apply the Dirichlet distribution as a prior for $\\mu$"
   ]
  },
  {
   "cell_type": "markdown",
   "metadata": {},
   "source": [
    "**Steps**\n",
    "\n",
    "1.  Create a Dirichlet distribution with $\\alpha=[1, 1, 1]$: `dir = Dirichlet(alpha=np.ones(3))`\n",
    "\n",
    "2.  Define the Categorical model with $\\mu=dir$: `model = Categorical(mu=dir)`\n",
    "\n",
    "3.  Print the model: `print(model)`"
   ]
  },
  {
   "cell_type": "code",
   "execution_count": null,
   "metadata": {},
   "outputs": [],
   "source": [
    "## Code goes here\n"
   ]
  },
  {
   "cell_type": "markdown",
   "metadata": {},
   "source": [
    "Fit the model to the dataset and print the model to see the new $\\alpha$"
   ]
  },
  {
   "cell_type": "code",
   "execution_count": null,
   "metadata": {},
   "outputs": [],
   "source": [
    "## Code goes here\n"
   ]
  },
  {
   "cell_type": "markdown",
   "metadata": {},
   "source": [
    "Draw 1000 random variable from the distribution\n",
    "\n",
    "**Steps**\n",
    "\n",
    "1.  Normalize the $\\alpha$ vector to be in range [0:1]:\n",
    "\n",
    "    ```\n",
    "    mu = np.array([1,1,5])\n",
    "    mu_norm = mu/mu.sum(axis=0,keepdims=0)\n",
    "    ```\n",
    "\n",
    "2.  Define a categorical model with $\\mu=mu\\_norm$: `model = Categorical(mu=mu_norm)`\n",
    "\n",
    "3.  Define the number of experiments: `num_exper = 1000`\n",
    "\n",
    "4.  Create an empty list to hold drawn samples: `preds = []`\n",
    "\n",
    "5.  Convert the samples to 100\\*1\\*3 array: `preds= np.array(preds)`\n",
    "\n",
    "6.  Draw the 1000 sample: \n",
    "\n",
    "    ```\n",
    "    for i in range(num_exper):\n",
    "        preds.append(model.draw())\n",
    "    ```\n",
    "\n",
    "7.  Compute the counts of each drawn category: \n",
    "\n",
    "    ```\n",
    "    x_1 = preds[:,:,0].sum()\n",
    "    x_2 = preds[:,:,1].sum()\n",
    "    x_3 = preds[:,:,2].sum()\n",
    "    print(x_1/num_exper)\n",
    "    print(x_2/num_exper)\n",
    "    print(x_3/num_exper)\n",
    "    ```"
   ]
  },
  {
   "cell_type": "code",
   "execution_count": null,
   "metadata": {},
   "outputs": [],
   "source": [
    "## Code goes here\n"
   ]
  },
  {
   "cell_type": "code",
   "execution_count": null,
   "metadata": {},
   "outputs": [],
   "source": []
  }
 ],
 "metadata": {
  "kernelspec": {
   "display_name": "Python 3.8.8 ('base')",
   "language": "python",
   "name": "python3"
  },
  "language_info": {
   "codemirror_mode": {
    "name": "ipython",
    "version": 3
   },
   "file_extension": ".py",
   "mimetype": "text/x-python",
   "name": "python",
   "nbconvert_exporter": "python",
   "pygments_lexer": "ipython3",
   "version": "3.8.8"
  },
  "orig_nbformat": 4,
  "vscode": {
   "interpreter": {
    "hash": "0b4ffc9c9a031070cdf645d18822cd1abb711111454341ec96112cbb04136171"
   }
  }
 },
 "nbformat": 4,
 "nbformat_minor": 2
}
