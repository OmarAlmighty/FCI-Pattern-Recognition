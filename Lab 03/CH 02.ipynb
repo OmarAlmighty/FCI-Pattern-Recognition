{
 "cells": [
  {
   "cell_type": "markdown",
   "metadata": {},
   "source": [
    "# Chapter 2: Probability Distributions"
   ]
  },
  {
   "cell_type": "code",
   "execution_count": 2,
   "metadata": {},
   "outputs": [],
   "source": [
    "import sys\n",
    "import numpy as np\n",
    "import matplotlib.pyplot as plt\n",
    "np.random.seed(1234)\n",
    "# import the prml package\n",
    "sys.path.append('F:\\\\fci\\\\Pattern Recognation\\\\Week 03 - Introduction')\n"
   ]
  },
  {
   "cell_type": "markdown",
   "metadata": {},
   "source": [
    "## Bernoulli Distribution\n",
    "\n",
    "$\\Large 𝑝(𝐷│\\mu)=\\prod_{𝑛=1}^𝑁{\\mu^{𝑥_𝑛}(1−\\mu)^{1−𝑥_𝑛}}$\n",
    "\n",
    "$\\Large \\mu_{ML} = \\frac{1}{N} \\sum_{n=1}^N{x_n}$"
   ]
  },
  {
   "cell_type": "markdown",
   "metadata": {},
   "source": [
    "**Steps**\n",
    "\n",
    "1.  Import the Bernoulli class: `from prml.rv import Bernoulli`\n",
    "\n",
    "2.  Create a dataset of three 1s and one 0: `dataset = np.array([0., 1., 1., 1.])`\n",
    "\n",
    "3.  Plot the dataset as a bar graph:\n",
    "    ```\n",
    "    count_0 = len(dataset[dataset == 0.])\n",
    "    count_1 = len(dataset[dataset == 1.])\n",
    "    plt.bar(['0', '1'], [count_0, count_1], color='b')  \n",
    "    ```\n",
    "4.  Create a Bernoulli model: `model = Bernoulli()`\n",
    "\n",
    "5.  Fit the model to the dataset: `model.fit(dataset)`\n",
    "\n",
    "6.  Print the $\\mu_{ML}$: `print(model)`"
   ]
  },
  {
   "cell_type": "code",
   "execution_count": 6,
   "metadata": {},
   "outputs": [
    {
     "name": "stdout",
     "output_type": "stream",
     "text": [
      "Bernoulli(\n",
      "    mu=0.75\n",
      ")\n"
     ]
    },
    {
     "data": {
      "image/png": "[encoded data removed]",
      "text/plain": [
       "<Figure size 432x288 with 1 Axes>"
      ]
     },
     "metadata": {
      "needs_background": "light"
     },
     "output_type": "display_data"
    }
   ],
   "source": [
    "from prml.rv import Bernoulli\n",
    "\n",
    "# create the dataset\n",
    "dataset = np.array([0., 1., 1., 1.])\n",
    "\n",
    "# plot the dataset\n",
    "count_0 = len(dataset[dataset == 0.])\n",
    "count_1 = len(dataset[dataset == 1.])\n",
    "plt.bar(['0', '1'], [count_0, count_1], color='b')\n",
    "\n",
    "# fit a Bernoulli model\n",
    "model = Bernoulli()\n",
    "model.fit(dataset)\n",
    "\n",
    "print(model)  # prints mu, which is the probability that we get x=1\n",
    "plt.show()\n"
   ]
  },
  {
   "cell_type": "markdown",
   "metadata": {},
   "source": [
    "#### Let's do an experiment and test how the model can randomly draw 0 or 1 values. We will do 1000 experiment. \n",
    "\n",
    "**Steps**\n",
    "1.  Create an empty list to hold the randomly drawn values: `samples = []`\n",
    "\n",
    "2.  Do 1000 experiment by drawing a number from the model: \n",
    "    \n",
    "    ```\n",
    "    num_exper = 1000\n",
    "    for i in range(num_exper):\n",
    "        samples.append(model.draw())\n",
    "    ```\n",
    "    \n",
    "3.  Count the number of 0s in the list: `count_0 = samples.count(0)`\n",
    "\n",
    "4.  Count the number of 1s in the list: `count_1 = samples.count(1)`\n",
    "\n",
    "5.  Compute the likelihood of getting 0: `prop_0 = count_0 / num_exper`\n",
    "\n",
    "6.  Compute the likelihood of getting 1: `prop_1 = count_1 / num_exper`\n",
    "\n",
    "7.  Print the $\\mu_{ML}$: `print(model)`"
   ]
  },
  {
   "cell_type": "code",
   "execution_count": 3,
   "metadata": {},
   "outputs": [
    {
     "name": "stdout",
     "output_type": "stream",
     "text": [
      "The number of zeros: 267\n",
      "The number of ones: 733\n",
      "The propotion of zeros:  0.267\n",
      "The propotion of ones 0.733\n"
     ]
    }
   ],
   "source": [
    "samples = []  # the drawn values\n",
    "num_exper = 1000\n",
    "\n",
    "for i in range(num_exper):  # draw a random variable from the model and store it in the list\n",
    "    samples.append(model.draw())\n",
    "\n",
    "count_0 = samples.count(0)  # number of zeros\n",
    "count_1 = samples.count(1)  # number of ones\n",
    "prop_0 = count_0 / num_exper  # Proportion of zeros\n",
    "prop_1 = count_1 / num_exper  # Proportion of ones\n",
    "print(\"The number of zeros:\", count_0)\n",
    "print(\"The number of ones:\", count_1)\n",
    "print(\"The proportion of zeros: \", prop_0)\n",
    "print(\"The proportion of ones\", prop_1)\n",
    "\n",
    "print(model)\n"
   ]
  },
  {
   "cell_type": "markdown",
   "metadata": {},
   "source": [
    "#### What if we have a dataset like this dataset = [1., 1., 1., 1.]"
   ]
  },
  {
   "cell_type": "markdown",
   "metadata": {},
   "source": [
    "**Steps**\n",
    "\n",
    "1.  Create a dataset of three 1s and one 0: `dataset = np.array([1., 1., 1., 1.])`\n",
    "\n",
    "2.  Plot the dataset as a bar graph:\n",
    "    ```\n",
    "    count_0 = len(dataset[dataset == 0.])\n",
    "    count_1 = len(dataset[dataset == 1.])\n",
    "    plt.bar(['0', '1'], [count_0, count_1], color='b')  \n",
    "    ```\n",
    "3.  Create a Bernoulli model: `model = Bernoulli()`\n",
    "\n",
    "4.  Fit the model to the dataset: `model.fit(dataset)`\n",
    "\n",
    "5.  Print the $\\mu_{ML}$: `print(model)`\n",
    "\n",
    "If we have data for 4 random experiments that all have 1s. Does it mean we never have 0s?"
   ]
  },
  {
   "cell_type": "code",
   "execution_count": 4,
   "metadata": {},
   "outputs": [
    {
     "name": "stdout",
     "output_type": "stream",
     "text": [
      "Bernoulli(\n",
      "    mu=1.0\n",
      ")\n"
     ]
    },
    {
     "data": {
      "image/png": "[encoded data removed]",
      "text/plain": [
       "<Figure size 432x288 with 1 Axes>"
      ]
     },
     "metadata": {
      "needs_background": "light"
     },
     "output_type": "display_data"
    }
   ],
   "source": [
    "# create the dataset\n",
    "dataset = np.array([1., 1., 1., 1.])\n",
    "\n",
    "# plot the dataset\n",
    "count_0 = len(dataset[dataset == 0.])\n",
    "count_1 = len(dataset[dataset == 1.])\n",
    "plt.bar(['0', '1'], [count_0, count_1], color='b')\n",
    "\n",
    "# fit a Bernoulli model\n",
    "model = Bernoulli()\n",
    "model.fit(dataset)\n",
    "\n",
    "print(model)  # prints mu, which is the probability that we get x=1\n",
    "plt.show()\n"
   ]
  },
  {
   "cell_type": "markdown",
   "metadata": {},
   "source": [
    "The model has $\\mu=1.0$, it means that it will not predict any zeros! \n",
    "\n",
    "Let's experiment it!\n",
    "\n",
    "**Steps**\n",
    "1.  Create an empty list to hold the randomly drawn values: `samples = []`\n",
    "\n",
    "2.  Do 1000 experiment by drawing a number from the model: \n",
    "    \n",
    "    ```\n",
    "    num_exper = 1000\n",
    "    for i in range(num_exper):\n",
    "        samples.append(model.draw())\n",
    "    ```\n",
    "    \n",
    "3.  Count the number of 0s in the list: `count_0 = samples.count(0)`\n",
    "\n",
    "4.  Count the number of 1s in the list: `count_1 = samples.count(1)`\n",
    "\n",
    "5.  Compute the likelihood of getting 0: `prop_0 = count_0 / num_exper`\n",
    "\n",
    "6.  Compute the likelihood of getting 1: `prop_1 = count_1 / num_exper`"
   ]
  },
  {
   "cell_type": "code",
   "execution_count": 5,
   "metadata": {},
   "outputs": [
    {
     "name": "stdout",
     "output_type": "stream",
     "text": [
      "The number of zeros: 0\n",
      "The number of ones: 1000\n",
      "The propotion of zeros:  0.0\n",
      "The propotion of ones 1.0\n"
     ]
    }
   ],
   "source": [
    "samples = []  # the drawn values\n",
    "num_exper = 1000\n",
    "\n",
    "for i in range(num_exper):  # draw a random variable from the model and store it in the list\n",
    "    samples.append(model.draw())\n",
    "\n",
    "count_0 = samples.count(0)  # number of zeros\n",
    "count_1 = samples.count(1)  # number of ones\n",
    "prop_0 = count_0 / num_exper  # Proportion of zeros\n",
    "prop_1 = count_1 / num_exper  # Proportion of ones\n",
    "\n",
    "# This causes overfitting\n",
    "print(\"The number of zeros:\", count_0)\n",
    "print(\"The number of ones:\", count_1)\n",
    "print(\"The proportion of zeros: \", prop_0)\n",
    "print(\"The proportion of ones\", prop_1)\n"
   ]
  },
  {
   "cell_type": "markdown",
   "metadata": {},
   "source": [
    "## Beta Distribution\n",
    "\n",
    "$\\Large 𝐵𝑒𝑡𝑎(\\mu│𝑎, 𝑏)=\\frac{\\Gamma (𝑎+𝑏)}{(\\Gamma (𝑎)*\\Gamma(𝑏))}  * ( \\mu^{𝑎−1} (1−\\mu)^{𝑏−1})$\n",
    "\n",
    "$a$ and $b$ are hyperparameter that controls the distribution."
   ]
  },
  {
   "cell_type": "markdown",
   "metadata": {},
   "source": [
    "Plot the beta distribution for different values of [a, b] = [0.1, 0.1], [1, 1], [2, 3], [8, 4]\n",
    "\n",
    "**Steps**\n",
    "\n",
    "1.  Create 100 number between 0 and 1: `x = np.linspace(0, 1, 100)` \n",
    "\n",
    "2.  Loop through the [a, b] values: `for i, [a, b] in enumerate([ [0.1, 0.1], [1, 1], [2, 3], [8, 4] ]):`\n",
    "\n",
    "    1.  create a subplot: `plt.subplot(2, 2, i+1)`\n",
    "\n",
    "    2.  Define a beta distribution model given [a, b]: `beta = Beta(a, b)`\n",
    "\n",
    "    3.  Compute the PDF of the beta distribution: `pdf = beta.pdf(x)`\n",
    "\n",
    "    4.  Plot the x-values against the PDF: `plt.plot(x, pdf, c='r')`\n",
    "\n",
    "    5. Set the limits of the figure:\n",
    "        ```\n",
    "        plt.xlim(0, 1)\n",
    "        plt.ylim(0, 3)\n",
    "        ```\n",
    "\n",
    "    6. Add annotations to the figure: \n",
    "        ```\n",
    "        plt.annotate(\"a={}\".format(a), (0.1, 2.5))\n",
    "        plt.annotate(\"b={}\".format(b), (0.1, 2.1))\n",
    "        ```"
   ]
  },
  {
   "cell_type": "code",
   "execution_count": 4,
   "metadata": {},
   "outputs": [
    {
     "data": {
      "image/png": "[encoded data removed]",
      "text/plain": [
       "<Figure size 432x288 with 4 Axes>"
      ]
     },
     "metadata": {
      "needs_background": "light"
     },
     "output_type": "display_data"
    },
    {
     "data": {
      "text/plain": [
       "<Figure size 1800x1080 with 0 Axes>"
      ]
     },
     "metadata": {},
     "output_type": "display_data"
    }
   ],
   "source": [
    "from prml.rv import Beta\n",
    "\n",
    "# create 100 x values in range [0, 1]\n",
    "x = np.linspace(0, 1, 100)\n",
    "\n",
    "# plot the beta distribution for a,b = [0.1, 0.1], [1, 1], [2, 3], [8, 4]\n",
    "for i, [a, b] in enumerate([[0.1, 0.1], [1, 1], [2, 3], [8, 4]]):\n",
    "    plt.subplot(2, 2, i+1)\n",
    "    beta = Beta(a, b)\n",
    "    plt.xlim(0, 1)\n",
    "    plt.ylim(0, 3)\n",
    "    # compute the probability density function of the continuos variable x\n",
    "    pdf = beta.pdf(x)\n",
    "    plt.plot(x, pdf, c='r')\n",
    "    plt.annotate(\"a={}\".format(a), (0.1, 2.5))\n",
    "    plt.annotate(\"b={}\".format(b), (0.1, 2.1))\n",
    "\n",
    "plt.figure(figsize=(15, 15))\n",
    "plt.show()\n"
   ]
  },
  {
   "cell_type": "markdown",
   "metadata": {},
   "source": [
    "Let's combine the prior distribution of the $\\mu$ (beta distribution) with overfitted Bernoulli distribution.\n",
    "\n",
    "**Steps**\n",
    "\n",
    "1.  Create 100 element values between 0 and 1 for plotting: `x = np.linspace(0, 1, 100)` \n",
    "\n",
    "2.  Create a beta distribution with a=2 and b=2: `beta = Beta(2, 2)`\n",
    "\n",
    "3.  Compute the PDF of the beta distribution: `pdf_beta = beta.pdf(x)`\n",
    "\n",
    "4.  Create a Bernoulli distribution with $\\mu=beta$: `model = Bernoulli(mu=beta)`\n",
    "\n",
    "5.  Create a sample dataset of only the element 1: `sample = np.array([1.])`\n",
    "\n",
    "6.  Fit the Bernoulli model to the dataset: `model.fit(sample)`\n",
    "\n",
    "7.  Compute the PDF of the Bernoulli model: `pdf_bern = model.mu.pdf(x)`\n",
    "\n",
    "8.  Plot the prior distribution of beta:\n",
    "     ```\n",
    "     plt.subplot(1, 3, 1)\n",
    "     plt.xlim(0, 1)\n",
    "     plt.ylim(0, 2)\n",
    "     plt.plot(x, pdf, c='r')\n",
    "     plt.annotate('prior', (0.1, 1.5))\n",
    "     ```\n",
    "9.  Plot the likelihood:\n",
    "     ```\n",
    "     plt.subplot(1, 3, 2)\n",
    "     plt.xlim(0, 1)\n",
    "     plt.ylim(0, 2)\n",
    "     plt.plot(x, x, c='b')\n",
    "     plt.annotate('likelihood', (0.1, 1.5))\n",
    "     ```\n",
    "\n",
    "10.  Plot the x-values against the PDF of the Bernoulli model:\n",
    "     ```\n",
    "     plt.subplot(1, 3, 3)\n",
    "     plt.xlim(0, 1)\n",
    "     plt.ylim(0, 2)\n",
    "     plt.plot(x, pdf, c='r')\n",
    "     plt.annotate(\"posterior\", (0.1, 1.5))\n",
    "     ```\n"
   ]
  },
  {
   "cell_type": "code",
   "execution_count": 8,
   "metadata": {},
   "outputs": [
    {
     "data": {
      "image/png": "[encoded data removed]",
      "text/plain": [
       "<Figure size 1440x360 with 3 Axes>"
      ]
     },
     "metadata": {
      "needs_background": "light"
     },
     "output_type": "display_data"
    }
   ],
   "source": [
    "## Code goes here\n",
    "plt.figure(figsize=(20, 5))\n",
    "\n",
    "x = np.linspace(0, 1, 100)\n",
    "beta = Beta(2, 2)\n",
    "pdf_beta = beta.pdf(x)\n",
    "\n",
    "model = Bernoulli(mu=beta)\n",
    "sample = np.array([1.])\n",
    "model.fit(sample)\n",
    "pdf_bern = model.mu.pdf(x)\n",
    "\n",
    "plt.subplot(1, 3, 1)\n",
    "plt.plot(x, pdf_beta, color='r')\n",
    "plt.xlim(0, 1)\n",
    "plt.ylim(0, 2)\n",
    "plt.annotate(\"Beta distribution (prior)\", (0.1, 1.5))\n",
    "\n",
    "plt.subplot(1, 3, 2)\n",
    "plt.plot(x, x, color='b')\n",
    "plt.xlim(0, 1)\n",
    "plt.ylim(0, 2)\n",
    "plt.annotate(\"Likelihood\", (0.1, 1.5))\n",
    "\n",
    "plt.subplot(1, 3, 3)\n",
    "plt.plot(x, pdf_bern, color='r')\n",
    "plt.xlim(0, 1)\n",
    "plt.ylim(0, 2)\n",
    "plt.annotate(\"Posterior distribution\", (0.1, 1.5))\n",
    "\n",
    "plt.show()"
   ]
  },
  {
   "cell_type": "markdown",
   "metadata": {},
   "source": [
    " Experiment the beta distribution with overfitted Bernoulli\n",
    "\n",
    " **Steps**\n",
    "\n",
    " 1. Create an empty set to hold the drawn samples: `samples = []`\n",
    "\n",
    " 2. Define the number of experiments to 1000: `num_exper = 1000`\n",
    "\n",
    " 3. Define a Bernoulli distribution with $\\mu=beta$: `model = Bernoulli(mu=beta)`\n",
    "\n",
    " 4. Do the 1000 experiment:\n",
    "\n",
    "    ```\n",
    "    for i in range(num_exper):\n",
    "            samples.append(model.draw())\n",
    "    ```\n",
    "\n",
    " 5. Count the number of 0s: `count_0 = samples.count(0)`\n",
    "\n",
    " 6. Count the number of 1s: `count_1 = samples.count(1)`\n",
    "\n",
    " 7. Compute the proportion of 0s: `prop_0 = count_0 / num_exper`\n",
    "\n",
    " 8. Compute the proportion of 1s: `prop_1 = count_1 / num_exper`"
   ]
  },
  {
   "cell_type": "code",
   "execution_count": 9,
   "metadata": {},
   "outputs": [
    {
     "name": "stdout",
     "output_type": "stream",
     "text": [
      "The number of zeros: 415\n",
      "The number of ones: 585\n",
      "The proportion of zeros:  0.415\n",
      "The proportion of ones 0.585\n"
     ]
    }
   ],
   "source": [
    "samples = []  # the drawn values\n",
    "num_exper = 1000\n",
    "\n",
    "model = Bernoulli(mu=beta)\n",
    "\n",
    "for i in range(num_exper):  # draw a random variable from the model and store it in the list\n",
    "    samples.append(model.draw())\n",
    "\n",
    "count_0 = samples.count(0)  # number of zeros\n",
    "count_1 = samples.count(1)  # number of ones\n",
    "prop_0 = count_0 / num_exper  # Proportion of zeros\n",
    "prop_1 = count_1 / num_exper  # Proportion of ones\n",
    "\n",
    "# This causes overfitting\n",
    "print(\"The number of zeros:\", count_0)\n",
    "print(\"The number of ones:\", count_1)\n",
    "print(\"The proportion of zeros: \", prop_0)\n",
    "print(\"The proportion of ones\", prop_1)\n"
   ]
  },
  {
   "cell_type": "markdown",
   "metadata": {},
   "source": [
    "Compare the maximum likelihood estimation and the Bayesian estimation\n",
    "\n",
    "**Steps**\n",
    "\n",
    "1.  Define a Bernoulli model: `model = Bernoulli()`\n",
    "\n",
    "2.  Fit the model to the dataset of [1]: `model.fit(np.array([1]))`\n",
    "\n",
    "3.  Print the number of 1s drawn from the distribution: `print(\"{} out of 10000 is 1\".format(model.draw(10000).sum()))`\n",
    "\n",
    "4.  Define a Bernoulli distribution with $\\mu=Beta(1,1)$: `model = Bernoulli(mu=Beta(1, 1))`\n",
    "\n",
    "5.  Fit the model to the dataset of [1]: `model.fit(np.array([1]))`    \n",
    "\n",
    "6.  Print the number of 1s drawn from the distribution: `print(\"{} out of 10000 is 1\".format(model.draw(10000).sum()))`"
   ]
  },
  {
   "cell_type": "code",
   "execution_count": 10,
   "metadata": {},
   "outputs": [
    {
     "name": "stdout",
     "output_type": "stream",
     "text": [
      "Maximum likelihood estimation\n",
      "10000 out of 10000 is 1\n",
      "Bayesian estimation\n",
      "6643 out of 10000 is 1\n"
     ]
    }
   ],
   "source": [
    "print(\"Maximum likelihood estimation\")\n",
    "model = Bernoulli()\n",
    "model.fit(np.array([1]))\n",
    "print(\"{} out of 10000 is 1\".format(model.draw(10000).sum()))\n",
    "\n",
    "print(\"Bayesian estimation\")\n",
    "model = Bernoulli(mu=Beta(1, 1))\n",
    "model.fit(np.array([1]))\n",
    "print(\"{} out of 10000 is 1\".format(model.draw(10000).sum()))\n"
   ]
  },
  {
   "cell_type": "markdown",
   "metadata": {},
   "source": [
    "## Dirichlet Distribution\n",
    "\n",
    "![formula](img.PNG)"
   ]
  },
  {
   "cell_type": "markdown",
   "metadata": {},
   "source": [
    "Define a multinomial (categorical distribution) that fits a dataset as the following\n",
    "\n",
    "\n",
    "| **x**    | $x_1$ | $x_2$ | $x_3$ |\n",
    "|----------|-----|-----|-----|\n",
    "| sample 1 | 0   | 1   | 0   |\n",
    "| sample 2 | 1   | 0   | 0   |\n",
    "| sample 3 | 1   | 0   | 0   |\n",
    "| sample 4 | 0   | 0   | 1   |\n",
    "\n",
    "for each feature $x$: \n",
    "\n",
    "$\\Large ~~~~~~~~~~~\\mu= \\frac {number~of~samples~with ~ x=1}{total~number~of~samples}$"
   ]
  },
  {
   "cell_type": "markdown",
   "metadata": {},
   "source": [
    "**Steps**\n",
    "\n",
    "1.  Create a Categorical model: `model = Categorical()`\n",
    "\n",
    "2.  Create the dataset: `dataset = np.array([ [0,1,0], [1,0,0], [1,0,0], [0,0,1], ])`\n",
    "\n",
    "3.  Fit the model to the dataset: `model.fit(dataset)`\n",
    "\n",
    "4.  Print the model: `print(model)`"
   ]
  },
  {
   "cell_type": "code",
   "execution_count": 11,
   "metadata": {},
   "outputs": [
    {
     "name": "stdout",
     "output_type": "stream",
     "text": [
      "Categorical(\n",
      "    mu=[0.5  0.25 0.25]\n",
      ")\n"
     ]
    }
   ],
   "source": [
    "from prml.rv import Categorical\n",
    "\n",
    "model = Categorical()\n",
    "dataset = np.array([\n",
    "    [0, 1, 0],\n",
    "    [1, 0, 0],\n",
    "    [1, 0, 0],\n",
    "    [0, 0, 1],\n",
    "])\n",
    "\n",
    "model.fit(dataset)  # computes the mu values\n",
    "\n",
    "print(model)\n"
   ]
  },
  {
   "cell_type": "markdown",
   "metadata": {},
   "source": [
    "Draw 1000 random variable from the distribution\n",
    "\n",
    "**Steps**\n",
    "\n",
    "1.  Define the number of experiments: `num_exper = 1000`\n",
    "\n",
    "2.  Create an empty list to hold the drawn values: `samples = []`\n",
    "\n",
    "3.  Draw the samples:\n",
    "\n",
    "    ```\n",
    "    for i in range(num_exper):\n",
    "        samples.append(model.draw())\n",
    "    ```\n",
    "\n",
    "4.  Convert the samples into a 100\\*1\\*3 array: `samples = np.array(samples)`\n",
    "\n",
    "5.  Compute the count of occurrence of each feature:\n",
    "    \n",
    "    ```\n",
    "    x_1 = samples[:,:,0].sum()\n",
    "    x_2 = samples[:,:,1].sum()\n",
    "    x_3 = samples[:,:,2].sum()\n",
    "    print(x_1/num_exper)\n",
    "    print(x_2/num_exper)\n",
    "    print(x_3/num_exper)\n",
    "    ```"
   ]
  },
  {
   "cell_type": "code",
   "execution_count": 12,
   "metadata": {},
   "outputs": [
    {
     "name": "stdout",
     "output_type": "stream",
     "text": [
      "0.501\n",
      "0.241\n",
      "0.258\n"
     ]
    }
   ],
   "source": [
    "# perform 1000 experiments\n",
    "# np.random.seed(1234)\n",
    "num_exper = 1000\n",
    "samples = []\n",
    "for i in range(num_exper):\n",
    "    samples.append(model.draw())  # draw a random sample\n",
    "\n",
    "# this converts the list into an array of size 100*1*3\n",
    "samples = np.array(samples)\n",
    "\n",
    "# compute how many each feature occurs\n",
    "x_1 = samples[:, :, 0].sum()\n",
    "x_2 = samples[:, :, 1].sum()\n",
    "x_3 = samples[:, :, 2].sum()\n",
    "print(x_1/num_exper)\n",
    "print(x_2/num_exper)\n",
    "print(x_3/num_exper)\n"
   ]
  },
  {
   "cell_type": "markdown",
   "metadata": {},
   "source": [
    "Let's try another inbalanced dataset\n",
    "\n",
    "| **x**    | $x_1$ | $x_2$ | $x_3$ |\n",
    "|----------|-----|-----|-----|\n",
    "| sample 1 | 0   | 0   | 1   |\n",
    "| sample 2 | 0   | 0   | 1   |\n",
    "| sample 3 | 0   | 0   | 1   |\n",
    "| sample 4 | 0   | 0   | 1   |\n",
    "\n",
    "The model overfits the data"
   ]
  },
  {
   "cell_type": "code",
   "execution_count": 14,
   "metadata": {},
   "outputs": [
    {
     "name": "stdout",
     "output_type": "stream",
     "text": [
      "Categorical(\n",
      "    mu=[0. 0. 1.]\n",
      ")\n"
     ]
    }
   ],
   "source": [
    "model = Categorical()\n",
    "\n",
    "bad_dataset = np.array([\n",
    "    [0, 0, 1],\n",
    "    [0, 0, 1],\n",
    "    [0, 0, 1],\n",
    "    [0, 0, 1],\n",
    "])\n",
    "\n",
    "model.fit(bad_dataset)\n",
    "\n",
    "print(model)\n"
   ]
  },
  {
   "cell_type": "code",
   "execution_count": 15,
   "metadata": {},
   "outputs": [
    {
     "name": "stdout",
     "output_type": "stream",
     "text": [
      "0.0\n",
      "0.0\n",
      "1.0\n"
     ]
    }
   ],
   "source": [
    "# perform 1000 experiments\n",
    "# np.random.seed(1234)\n",
    "num_exper = 1000\n",
    "samples = []\n",
    "for i in range(num_exper):\n",
    "    samples.append(model.draw())  # draw a random sample\n",
    "\n",
    "# this converts the list into an array of size 100*1*3\n",
    "samples = np.array(samples)\n",
    "\n",
    "# compute how many each feature occurs\n",
    "x_1 = samples[:, :, 0].sum()\n",
    "x_2 = samples[:, :, 1].sum()\n",
    "x_3 = samples[:, :, 2].sum()\n",
    "print(x_1/num_exper)\n",
    "print(x_2/num_exper)\n",
    "print(x_3/num_exper)\n"
   ]
  },
  {
   "cell_type": "markdown",
   "metadata": {},
   "source": [
    "Apply the Dirichlet distribution as a prior for $\\mu$"
   ]
  },
  {
   "cell_type": "markdown",
   "metadata": {},
   "source": [
    "**Steps**\n",
    "\n",
    "1.  Create a Dirichlet distribution with $\\alpha=[1, 1, 1]$: `dir = Dirichlet(alpha=np.ones(3))`\n",
    "\n",
    "2.  Define the Categorical model with $\\mu=dir$: `model = Categorical(mu=dir)`\n",
    "\n",
    "3.  Print the model: `print(model)`"
   ]
  },
  {
   "cell_type": "code",
   "execution_count": 16,
   "metadata": {},
   "outputs": [
    {
     "data": {
      "text/plain": [
       "Categorical(\n",
       "    mu=Dirichlet(\n",
       "        alpha=[1. 1. 1.]\n",
       "    )\n",
       ")"
      ]
     },
     "execution_count": 16,
     "metadata": {},
     "output_type": "execute_result"
    }
   ],
   "source": [
    "from prml.rv import Dirichlet\n",
    "\n",
    "dir = Dirichlet(alpha=np.ones(3))  # the alpha parameter [1, 1, 1]\n",
    "model = Categorical(mu=dir)\n",
    "model\n"
   ]
  },
  {
   "cell_type": "markdown",
   "metadata": {},
   "source": [
    "Fit the model to the dataset and print the model to see the new $\\alpha$"
   ]
  },
  {
   "cell_type": "code",
   "execution_count": 114,
   "metadata": {},
   "outputs": [
    {
     "name": "stdout",
     "output_type": "stream",
     "text": [
      "Categorical(\n",
      "    mu=Dirichlet(\n",
      "        alpha=[1. 1. 5.]\n",
      "    )\n",
      ")\n"
     ]
    }
   ],
   "source": [
    "# fit the data on the same inbalanced dataset\n",
    "model.fit(bad_dataset)\n",
    "\n",
    "print(model)\n"
   ]
  },
  {
   "cell_type": "markdown",
   "metadata": {},
   "source": [
    "Draw 1000 random variable from the distribution\n",
    "\n",
    "**Steps**\n",
    "\n",
    "1.  Normalize the $\\alpha$ vector to be in range [0:1]:\n",
    "\n",
    "    ```\n",
    "    mu = np.array([1,1,5])\n",
    "    mu_norm = mu/mu.sum(axis=0,keepdims=0)\n",
    "    ```\n",
    "\n",
    "2.  Define a categorical model with $\\mu=mu_norm$: `model = Categorical(mu=mu_norm)`\n",
    "\n",
    "3.  Define the number of experiments: `num_exper = 1000`\n",
    "\n",
    "4.  Create an empty list to hold drawn samples: `preds = []`\n",
    "\n",
    "5.  Draw the 1000 sample: \n",
    "\n",
    "    ```\n",
    "    for i in range(num_exper):\n",
    "        preds.append(model.draw())\n",
    "    ```\n",
    "\n",
    "6.  Compute the counts of each drawn category: \n",
    "\n",
    "    ```\n",
    "    x_1 = preds[:,:,0].sum()\n",
    "    x_2 = preds[:,:,1].sum()\n",
    "    x_3 = preds[:,:,2].sum()\n",
    "    print(x_1/num_exper)\n",
    "    print(x_2/num_exper)\n",
    "    print(x_3/num_exper)\n",
    "    ```"
   ]
  },
  {
   "cell_type": "code",
   "execution_count": 17,
   "metadata": {},
   "outputs": [
    {
     "name": "stdout",
     "output_type": "stream",
     "text": [
      "[0.14285714 0.14285714 0.71428571]\n",
      "Categorical(\n",
      "    mu=[0.14285714 0.14285714 0.71428571]\n",
      ")\n",
      "0.138\n",
      "0.149\n",
      "0.713\n"
     ]
    }
   ],
   "source": [
    "# normalize the mu vector to sum up to 1\n",
    "mu = np.array([1, 1, 5])\n",
    "mu_norm = mu/mu.sum(axis=0, keepdims=0)\n",
    "print(mu_norm)\n",
    "\n",
    "model = Categorical(mu=mu_norm)\n",
    "# model.fit(bad_dataset)  # we don't need to call fit() because we have estimated it from the Dirichlet distribution\n",
    "print(model)\n",
    "\n",
    "num_exper = 1000\n",
    "preds = []\n",
    "for i in range(num_exper):\n",
    "    preds.append(model.draw())  # draw a random sample\n",
    "\n",
    "preds = np.array(preds)  # this converts the list into an array of size 100*1*3\n",
    "\n",
    "x_1 = preds[:, :, 0].sum()\n",
    "x_2 = preds[:, :, 1].sum()\n",
    "x_3 = preds[:, :, 2].sum()\n",
    "print(x_1/num_exper)\n",
    "print(x_2/num_exper)\n",
    "print(x_3/num_exper)\n"
   ]
  }
 ],
 "metadata": {
  "kernelspec": {
   "display_name": "Python 3.8.8 ('base')",
   "language": "python",
   "name": "python3"
  },
  "language_info": {
   "codemirror_mode": {
    "name": "ipython",
    "version": 3
   },
   "file_extension": ".py",
   "mimetype": "text/x-python",
   "name": "python",
   "nbconvert_exporter": "python",
   "pygments_lexer": "ipython3",
   "version": "3.8.8"
  },
  "orig_nbformat": 4,
  "vscode": {
   "interpreter": {
    "hash": "0b4ffc9c9a031070cdf645d18822cd1abb711111454341ec96112cbb04136171"
   }
  }
 },
 "nbformat": 4,
 "nbformat_minor": 2
}
