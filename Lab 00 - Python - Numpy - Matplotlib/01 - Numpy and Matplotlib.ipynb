{
 "cells": [
  {
   "cell_type": "markdown",
   "metadata": {},
   "source": [
    "# Numpy\n",
    "NumPy is an extension to the Python programming language, adding support for large, multidimensional (numerical) arrays and matrices, along with a large library of high-level mathematical functions to operate on these arrays."
   ]
  },
  {
   "cell_type": "code",
   "execution_count": 1,
   "metadata": {},
   "outputs": [],
   "source": [
    "import numpy as np"
   ]
  },
  {
   "cell_type": "markdown",
   "metadata": {},
   "source": [
    "## 1. Create arrays\n",
    "Create ndarrays from lists. note: every element must be the same type (will be converted if\n",
    "possible)"
   ]
  },
  {
   "cell_type": "code",
   "execution_count": 2,
   "metadata": {},
   "outputs": [
    {
     "data": {
      "text/plain": [
       "[[1, 2, 3, 4], [5, 6, 7, 8]]"
      ]
     },
     "execution_count": 2,
     "metadata": {},
     "output_type": "execute_result"
    }
   ],
   "source": [
    "data1 = [1, 2, 3, 4, 5] # list\n",
    "arr1 = np.array(data1) # 1d array\n",
    "data2 = [range(1, 5), range(5, 9)] # list of lists\n",
    "arr2 = np.array(data2) # 2d array\n",
    "arr2.tolist() # convert array back to list"
   ]
  },
  {
   "cell_type": "code",
   "execution_count": 3,
   "metadata": {},
   "outputs": [
    {
     "name": "stdout",
     "output_type": "stream",
     "text": [
      "[0.   0.25 0.5  0.75 1.  ]\n",
      "[   1.   10.  100. 1000.]\n"
     ]
    }
   ],
   "source": [
    "np.zeros(10)\n",
    "np.zeros((3, 6))\n",
    "np.ones(10)\n",
    "print(np.linspace(0, 1, 5)) # 0 to 1 (inclusive) with 5 points\n",
    "print(np.logspace(0, 3, 4)) # 10^0 to 10^3 (inclusive) with 4 points"
   ]
  },
  {
   "cell_type": "code",
   "execution_count": 4,
   "metadata": {},
   "outputs": [],
   "source": [
    "# arange is like range, except it returns an array (not a list)\n",
    "int_array = np.arange(5)\n",
    "float_array = int_array.astype(float)"
   ]
  },
  {
   "cell_type": "markdown",
   "metadata": {},
   "source": [
    "## 2. Examining arrays"
   ]
  },
  {
   "cell_type": "code",
   "execution_count": 5,
   "metadata": {},
   "outputs": [
    {
     "data": {
      "text/plain": [
       "2"
      ]
     },
     "execution_count": 5,
     "metadata": {},
     "output_type": "execute_result"
    }
   ],
   "source": [
    "arr1.dtype # float64\n",
    "arr2.dtype # int32\n",
    "arr2.ndim # 2\n",
    "arr2.shape # (2, 4) - axis 0 is rows, axis 1 is columns\n",
    "arr2.size # 8 - total number of elements\n",
    "len(arr2) # 2 - size of first dimension (aka axis)"
   ]
  },
  {
   "cell_type": "markdown",
   "metadata": {},
   "source": [
    "## 3. Reshaping"
   ]
  },
  {
   "cell_type": "code",
   "execution_count": 6,
   "metadata": {},
   "outputs": [
    {
     "name": "stdout",
     "output_type": "stream",
     "text": [
      "(2, 5)\n",
      "[[0. 1.]\n",
      " [2. 3.]\n",
      " [4. 5.]\n",
      " [6. 7.]\n",
      " [8. 9.]]\n"
     ]
    }
   ],
   "source": [
    "arr = np.arange(10, dtype=float).reshape((2, 5))\n",
    "print(arr.shape)\n",
    "print(arr.reshape(5, 2))"
   ]
  },
  {
   "cell_type": "code",
   "execution_count": 7,
   "metadata": {},
   "outputs": [
    {
     "name": "stdout",
     "output_type": "stream",
     "text": [
      "[[0]\n",
      " [1]]\n"
     ]
    }
   ],
   "source": [
    "# Add an axis\n",
    "a = np.array([0, 1])\n",
    "a_col = a[:, np.newaxis]\n",
    "print(a_col)\n",
    "#or\n",
    "a_col = a[:, None]"
   ]
  },
  {
   "cell_type": "code",
   "execution_count": 8,
   "metadata": {},
   "outputs": [
    {
     "name": "stdout",
     "output_type": "stream",
     "text": [
      "[[0 1]]\n"
     ]
    }
   ],
   "source": [
    "# Transpose\n",
    "print(a_col.T)"
   ]
  },
  {
   "cell_type": "code",
   "execution_count": 9,
   "metadata": {},
   "outputs": [
    {
     "name": "stdout",
     "output_type": "stream",
     "text": [
      "[[0. 1. 2. 3. 4.]\n",
      " [5. 6. 7. 8. 9.]]\n",
      "[33.  1.  2.  3.  4.  5.  6.  7.  8.  9.]\n"
     ]
    }
   ],
   "source": [
    "# Flatten: always returns a flat copy of the orriginal array\n",
    "arr_flt = arr.flatten()\n",
    "arr_flt[0] = 33\n",
    "print(arr)\n",
    "print(arr_flt)"
   ]
  },
  {
   "cell_type": "markdown",
   "metadata": {},
   "source": [
    "## 4. Stack arrays"
   ]
  },
  {
   "cell_type": "code",
   "execution_count": 10,
   "metadata": {},
   "outputs": [
    {
     "name": "stdout",
     "output_type": "stream",
     "text": [
      "[[0 1]\n",
      " [2 3]]\n"
     ]
    },
    {
     "data": {
      "text/plain": [
       "array([[0, 1],\n",
       "       [2, 3]])"
      ]
     },
     "execution_count": 10,
     "metadata": {},
     "output_type": "execute_result"
    }
   ],
   "source": [
    "# Stack flat arrays in rows\n",
    "a = np.array([0, 1])\n",
    "b = np.array([2, 3])\n",
    "\n",
    "ab = np.stack((a, b))\n",
    "print(ab)\n",
    "\n",
    "# or\n",
    "np.vstack((a[None, :], b[None, :]))"
   ]
  },
  {
   "cell_type": "code",
   "execution_count": 11,
   "metadata": {},
   "outputs": [
    {
     "name": "stdout",
     "output_type": "stream",
     "text": [
      "[[0 2]\n",
      " [1 3]]\n"
     ]
    },
    {
     "data": {
      "text/plain": [
       "array([[0, 2],\n",
       "       [1, 3]])"
      ]
     },
     "execution_count": 11,
     "metadata": {},
     "output_type": "execute_result"
    }
   ],
   "source": [
    "# Stack flat arrays in columns\n",
    "a = np.array([0, 1])\n",
    "b = np.array([2, 3])\n",
    "\n",
    "ab = np.stack((a, b)).T\n",
    "print(ab)\n",
    "\n",
    "# or\n",
    "np.hstack((a[:, None], b[:, None]))"
   ]
  },
  {
   "cell_type": "markdown",
   "metadata": {},
   "source": [
    "## 5. Selection"
   ]
  },
  {
   "cell_type": "code",
   "execution_count": 12,
   "metadata": {},
   "outputs": [
    {
     "name": "stdout",
     "output_type": "stream",
     "text": [
      "[[0. 1. 2. 3. 4.]\n",
      " [5. 6. 7. 8. 9.]]\n"
     ]
    },
    {
     "data": {
      "text/plain": [
       "3.0"
      ]
     },
     "execution_count": 12,
     "metadata": {},
     "output_type": "execute_result"
    }
   ],
   "source": [
    "# Single item\n",
    "arr = np.arange(10, dtype=float).reshape((2, 5))\n",
    "print(arr)\n",
    "arr[0] # 0th element (slices like a list)\n",
    "arr[0, 3] # row 0, column 3: returns 4\n",
    "arr[0][3] # alternative syntax"
   ]
  },
  {
   "cell_type": "markdown",
   "metadata": {},
   "source": [
    "### 5.1 Slicing\n",
    "Syntax: `start`:`stop`:`step` with `start` (default 0) `stop` (default last) `step` (default 1)"
   ]
  },
  {
   "cell_type": "code",
   "execution_count": 13,
   "metadata": {},
   "outputs": [
    {
     "name": "stdout",
     "output_type": "stream",
     "text": [
      "[[1. 2. 3.]\n",
      " [6. 7. 8.]]\n"
     ]
    }
   ],
   "source": [
    "arr[0, :] # row 0: returns 1d array ([1, 2, 3, 4])\n",
    "arr[:, 0] # column 0: returns 1d array ([1, 5])\n",
    "arr[:, :2] # columns strictly before index 2 (2 first columns)\n",
    "arr[:, 2:] # columns after index 2 included\n",
    "arr2 = arr[:, 1:4] # columns between index 1 (included) and 4 (excluded)\n",
    "print(arr2)"
   ]
  },
  {
   "cell_type": "code",
   "execution_count": 14,
   "metadata": {},
   "outputs": [
    {
     "name": "stdout",
     "output_type": "stream",
     "text": [
      "[4. 3. 2. 1. 0.]\n"
     ]
    }
   ],
   "source": [
    "# Row 0: reverse order\n",
    "print(arr[0, ::-1])"
   ]
  },
  {
   "cell_type": "markdown",
   "metadata": {},
   "source": [
    "### 5.2 Integer or boolean array indexing"
   ]
  },
  {
   "cell_type": "code",
   "execution_count": 16,
   "metadata": {},
   "outputs": [
    {
     "name": "stdout",
     "output_type": "stream",
     "text": [
      "[[0. 1. 2. 3. 4.]\n",
      " [5. 6. 7. 8. 9.]]\n",
      "[[1. 2. 3.]\n",
      " [6. 7. 8.]]\n",
      "[[44.  2.  3.]\n",
      " [ 6.  7.  8.]]\n"
     ]
    }
   ],
   "source": [
    "# Integer array indexing\n",
    "print(arr)\n",
    "arr2 = arr[:, [1,2,3]] # return a copy\n",
    "print(arr2)\n",
    "arr2[0, 0] = 44\n",
    "print(arr2)"
   ]
  },
  {
   "cell_type": "code",
   "execution_count": 17,
   "metadata": {},
   "outputs": [
    {
     "name": "stdout",
     "output_type": "stream",
     "text": [
      "[[0. 1. 2. 3. 4.]\n",
      " [5. 6. 7. 8. 9.]]\n",
      "[6. 7. 8. 9.]\n",
      "[44.  7.  8.  9.]\n"
     ]
    }
   ],
   "source": [
    "# Boolean arrays indexing\n",
    "print(arr)\n",
    "\n",
    "arr2 = arr[arr > 5] # return a copy\n",
    "print(arr2)\n",
    "\n",
    "arr2[0] = 44\n",
    "print(arr2)\n"
   ]
  },
  {
   "cell_type": "code",
   "execution_count": 19,
   "metadata": {},
   "outputs": [
    {
     "name": "stdout",
     "output_type": "stream",
     "text": [
      "[1 2 3 4 5 6 7]\n"
     ]
    }
   ],
   "source": [
    "x = np.arange(1, 20)\n",
    "print(x[x < 8])"
   ]
  },
  {
   "cell_type": "code",
   "execution_count": 21,
   "metadata": {},
   "outputs": [
    {
     "name": "stdout",
     "output_type": "stream",
     "text": [
      "[ 0  0  0  0  0  0  0  8  9 10 11 12 13 14 15 16 17 18 19]\n"
     ]
    }
   ],
   "source": [
    "# left hand side value of an assignment\n",
    "x[x<8] = 0 \n",
    "print(x)"
   ]
  },
  {
   "cell_type": "code",
   "execution_count": 22,
   "metadata": {},
   "outputs": [
    {
     "name": "stdout",
     "output_type": "stream",
     "text": [
      "[ True False False  True]\n",
      "['Joe' 'Will']\n",
      "[ True False  True  True]\n",
      "['Bob' 'Joe']\n"
     ]
    }
   ],
   "source": [
    "# Boolean arrays indexing with strings\n",
    "names = np.array(['Bob', 'Joe', 'Will', 'Bob'])\n",
    "print(names == 'Bob') # returns a boolean array\n",
    "print(names[names != 'Bob']) # logical selection\n",
    "print((names == 'Bob') | (names == 'Will')) # keywords \"and/or\" don't work with boolean arrays\n",
    "names[names != 'Bob'] = 'Joe' # assign based on a logical selection\n",
    "print(np.unique(names)) # set function"
   ]
  },
  {
   "cell_type": "markdown",
   "metadata": {},
   "source": [
    "## 6. Vectorized operations\n",
    "Vectorization is the process of converting an algorithm from operating on a single value at a time to operating on a set of values (vector) at one time.\n",
    "\n",
    "The concept of vectorized operations on NumPy allows the use of more optimal and pre-compiled functions and mathematical operations on NumPy array objects and data sequences. The Output and Operations will speed up when compared to simple non-vectorized operations."
   ]
  },
  {
   "cell_type": "code",
   "execution_count": 23,
   "metadata": {},
   "outputs": [
    {
     "data": {
      "text/plain": [
       "array([1.        , 1.        , 3.        , 1.73205081, 5.        ])"
      ]
     },
     "execution_count": 23,
     "metadata": {},
     "output_type": "execute_result"
    }
   ],
   "source": [
    "nums = np.arange(5)\n",
    "nums * 10                                     # multiply each element by 10\n",
    "nums = np.sqrt(nums)                          # square root of each element\n",
    "np.ceil(nums)                                 # also floor, rint (round to nearest int)\n",
    "np.isnan(nums)                                # checks for NaN\n",
    "nums + np.arange(5)                           # add element-wise\n",
    "np.maximum(nums, np.array([1, -2, 3, -4, 5])) # compare element-wise"
   ]
  },
  {
   "cell_type": "code",
   "execution_count": 24,
   "metadata": {},
   "outputs": [],
   "source": [
    "# Compute Euclidean distance between 2 vectors\n",
    "vec1 = np.random.randn(10)\n",
    "vec2 = np.random.randn(10)\n",
    "dist = np.sqrt(np.sum((vec1 - vec2) ** 2))"
   ]
  },
  {
   "cell_type": "code",
   "execution_count": 25,
   "metadata": {},
   "outputs": [
    {
     "data": {
      "text/plain": [
       "array([ 2.13877892,  0.4501692 , -1.41506456,  0.15532217])"
      ]
     },
     "execution_count": 25,
     "metadata": {},
     "output_type": "execute_result"
    }
   ],
   "source": [
    "# math and stats\n",
    "rnd = np.random.randn(4, 2) # random normals in 4x2 array\n",
    "rnd.mean()\n",
    "rnd.std()\n",
    "rnd.argmin()                # index of minimum element\n",
    "rnd.sum()\n",
    "rnd.sum(axis=0)             # sum of columns\n",
    "rnd.sum(axis=1)             # sum of rows"
   ]
  },
  {
   "cell_type": "code",
   "execution_count": 26,
   "metadata": {},
   "outputs": [
    {
     "data": {
      "text/plain": [
       "False"
      ]
     },
     "execution_count": 26,
     "metadata": {},
     "output_type": "execute_result"
    }
   ],
   "source": [
    "# methods for boolean arrays\n",
    "(rnd > 0).sum() # counts number of positive values\n",
    "(rnd > 0).any() # checks if any value is True\n",
    "(rnd > 0).all() # checks if all values are True"
   ]
  },
  {
   "cell_type": "code",
   "execution_count": null,
   "metadata": {},
   "outputs": [],
   "source": [
    "# random numbers\n",
    "np.random.seed(12234)           # Set the seed\n",
    "np.random.rand(2, 3)            # 2 x 3 matrix in [0, 1]\n",
    "np.random.randn(10)             # random normals (mean 0, sd 1)\n",
    "np.random.randint(0, 2, 10)     # 10 randomly picked 0 or 1"
   ]
  },
  {
   "cell_type": "markdown",
   "metadata": {},
   "source": [
    "## 7. Exercises"
   ]
  },
  {
   "cell_type": "markdown",
   "metadata": {},
   "source": [
    "### Q1) \n",
    "\n",
    "Given the array:\n",
    "`X = np.random.randn(4, 2)`# random normals in 4x2 array\n",
    "*   For each column find the row index of the minimum value.\n",
    "*   Write a function `standardize(X)` that return an array whose columns are centered and scaled (by std-dev).\n",
    "\n",
    "**hint** To standardize a variable, use the following formula:\n",
    "1.  Subtract the mean, μ, from the value you want to convert, X.\n",
    "2.  Divide the result from Step 1 by the standard deviation, σ."
   ]
  },
  {
   "cell_type": "markdown",
   "metadata": {},
   "source": [
    "### Solution"
   ]
  },
  {
   "cell_type": "code",
   "execution_count": 29,
   "metadata": {},
   "outputs": [
    {
     "name": "stdout",
     "output_type": "stream",
     "text": [
      "[[-0.74097756 -0.76801278]\n",
      " [ 0.47069633  1.83192788]\n",
      " [-1.49939359 -1.9075171 ]\n",
      " [ 0.55239138 -1.0869079 ]]\n"
     ]
    }
   ],
   "source": [
    "x = np.random.randn(4, 2)\n",
    "print(x)"
   ]
  },
  {
   "cell_type": "code",
   "execution_count": 34,
   "metadata": {},
   "outputs": [
    {
     "data": {
      "text/plain": [
       "array([2, 2], dtype=int64)"
      ]
     },
     "execution_count": 34,
     "metadata": {},
     "output_type": "execute_result"
    }
   ],
   "source": [
    "x.argmin(axis=0)\n",
    "# print the values\n",
    "# print(x[x.argmin(axis=0)][0])"
   ]
  },
  {
   "cell_type": "code",
   "execution_count": 37,
   "metadata": {},
   "outputs": [],
   "source": [
    "# the index of the minimum value across the whole array\n",
    "# np.argwhere(x == np.min(x))"
   ]
  },
  {
   "cell_type": "code",
   "execution_count": 38,
   "metadata": {},
   "outputs": [
    {
     "name": "stdout",
     "output_type": "stream",
     "text": [
      "[[-0.50816347 -0.20392369]\n",
      " [ 0.90193378  1.65387873]\n",
      " [-1.39077749 -1.01816301]\n",
      " [ 0.99700718 -0.43179203]]\n"
     ]
    }
   ],
   "source": [
    "x = (x - np.mean(x, axis=0)) / np.std(x, axis=0)\n",
    "print(x)"
   ]
  },
  {
   "cell_type": "markdown",
   "metadata": {},
   "source": [
    "### Q2)\n",
    "\n",
    "Convert the following array to `int` data type\n",
    "`a = np.array([[2.5, 3.8, 1.5], [4.7, 2.9, 1.56]])`\n"
   ]
  },
  {
   "cell_type": "markdown",
   "metadata": {},
   "source": [
    "### Solution"
   ]
  },
  {
   "cell_type": "code",
   "execution_count": 39,
   "metadata": {},
   "outputs": [
    {
     "name": "stdout",
     "output_type": "stream",
     "text": [
      "[[2 3 1]\n",
      " [4 2 1]]\n"
     ]
    }
   ],
   "source": [
    "a = np.array([[2.5, 3.8, 1.5],\n",
    "              [4.7, 2.9, 1.56]])\n",
    "\n",
    "o = a.astype('int')\n",
    "\n",
    "print(o)"
   ]
  },
  {
   "cell_type": "markdown",
   "metadata": {},
   "source": [
    "### Q3)\n",
    "\n",
    "Create two random 2*3 arrays and stack them horizontally.\n",
    "\n",
    "*set seed to 123*"
   ]
  },
  {
   "cell_type": "markdown",
   "metadata": {},
   "source": [
    "### Solution"
   ]
  },
  {
   "cell_type": "code",
   "execution_count": 42,
   "metadata": {},
   "outputs": [
    {
     "name": "stdout",
     "output_type": "stream",
     "text": [
      "[[-1.0856306   0.99734545  0.2829785 ]\n",
      " [-1.50629471 -0.57860025  1.65143654]]\n",
      "\n",
      "[[-2.42667924 -0.42891263  1.26593626]\n",
      " [-0.8667404  -0.67888615 -0.09470897]]\n",
      "\n",
      "[[[-1.0856306   0.99734545  0.2829785 ]\n",
      "  [-1.50629471 -0.57860025  1.65143654]]\n",
      "\n",
      " [[-2.42667924 -0.42891263  1.26593626]\n",
      "  [-0.8667404  -0.67888615 -0.09470897]]]\n"
     ]
    }
   ],
   "source": [
    "np.random.seed(123)\n",
    "a = np.random.randn(2, 3)\n",
    "b = np.random.randn(2, 3)\n",
    "c = np.stack((a, b), axis=0)\n",
    "print(a)\n",
    "print()\n",
    "print(b)\n",
    "print()\n",
    "print(c)"
   ]
  },
  {
   "cell_type": "markdown",
   "metadata": {},
   "source": [
    "# Matplotlib\n",
    "\n",
    "Matplotlib is a comprehensive library for creating static, animated, and interactive visualizations in Python."
   ]
  },
  {
   "cell_type": "markdown",
   "metadata": {},
   "source": [
    "## 1. Basic plots"
   ]
  },
  {
   "cell_type": "code",
   "execution_count": 1,
   "metadata": {},
   "outputs": [],
   "source": [
    "import numpy as np\n",
    "import matplotlib.pyplot as plt\n",
    "\n",
    "# inline plot (for jupyter)\n",
    "%matplotlib inline"
   ]
  },
  {
   "cell_type": "code",
   "execution_count": 2,
   "metadata": {},
   "outputs": [
    {
     "data": {
      "image/png": "[encoded data removed]",
      "text/plain": [
       "<Figure size 432x288 with 1 Axes>"
      ]
     },
     "metadata": {
      "needs_background": "light"
     },
     "output_type": "display_data"
    }
   ],
   "source": [
    "x = np.linspace(0, 10, 50)\n",
    "sinus = np.sin(x)\n",
    "plt.plot(x, sinus)\n",
    "plt.show()"
   ]
  },
  {
   "cell_type": "code",
   "execution_count": 3,
   "metadata": {},
   "outputs": [
    {
     "data": {
      "image/png": "[encoded data removed]",
      "text/plain": [
       "<Figure size 432x288 with 1 Axes>"
      ]
     },
     "metadata": {
      "needs_background": "light"
     },
     "output_type": "display_data"
    }
   ],
   "source": [
    "plt.plot(x, sinus, \"o\")\n",
    "plt.show()"
   ]
  },
  {
   "cell_type": "code",
   "execution_count": 7,
   "metadata": {},
   "outputs": [
    {
     "data": {
      "image/png": "[encoded data removed]",
      "text/plain": [
       "<Figure size 432x288 with 1 Axes>"
      ]
     },
     "metadata": {
      "needs_background": "light"
     },
     "output_type": "display_data"
    }
   ],
   "source": [
    "# fast multiplot\n",
    "cosinus = np.cos(x)\n",
    "plt.plot(x, sinus, \"-b\", x, sinus, \"ob\", x, cosinus, \"-r\", x, cosinus, \"or\")\n",
    "# or\n",
    "# plt.plot(x, sinus, \"-ob\", x, cosinus, \"-or\")\n",
    "plt.xlabel('this is x!')\n",
    "plt.ylabel('this is y!')\n",
    "plt.title('My First Plot')\n",
    "plt.show()"
   ]
  },
  {
   "cell_type": "code",
   "execution_count": 8,
   "metadata": {},
   "outputs": [
    {
     "data": {
      "image/png": "[encoded data removed]",
      "text/plain": [
       "<Figure size 432x288 with 1 Axes>"
      ]
     },
     "metadata": {
      "needs_background": "light"
     },
     "output_type": "display_data"
    }
   ],
   "source": [
    "# Step by step\n",
    "plt.plot(x, sinus, label='sinus', color='blue', linestyle='--', linewidth=2)\n",
    "plt.plot(x, cosinus, label='cosinus', color='red', linestyle='-', linewidth=2)\n",
    "plt.legend()\n",
    "plt.show()"
   ]
  },
  {
   "cell_type": "markdown",
   "metadata": {},
   "source": [
    "## 2. Scatter (2D) plots"
   ]
  },
  {
   "cell_type": "code",
   "execution_count": 9,
   "metadata": {},
   "outputs": [
    {
     "data": {
      "image/png": "[encoded data removed]",
      "text/plain": [
       "<Figure size 432x288 with 1 Axes>"
      ]
     },
     "metadata": {
      "needs_background": "light"
     },
     "output_type": "display_data"
    }
   ],
   "source": [
    "# make the data\n",
    "np.random.seed(3)\n",
    "x = 4 + np.random.normal(0, 2, 24)\n",
    "y = 4 + np.random.normal(0, 2, len(x))\n",
    "\n",
    "# plot\n",
    "plt.scatter(x, y)\n",
    "plt.show()"
   ]
  },
  {
   "cell_type": "markdown",
   "metadata": {},
   "source": [
    "### 2.1 Scatter plots with colors"
   ]
  },
  {
   "cell_type": "code",
   "execution_count": 10,
   "metadata": {},
   "outputs": [
    {
     "data": {
      "image/png": "[encoded data removed]",
      "text/plain": [
       "<Figure size 432x288 with 1 Axes>"
      ]
     },
     "metadata": {
      "needs_background": "light"
     },
     "output_type": "display_data"
    }
   ],
   "source": [
    "x = np.array([5,7,8,7,2,17,2,9,4,11,12,9,6])\n",
    "y = np.array([99,86,87,88,111,86,103,87,94,78,77,85,86])\n",
    "plt.scatter(x, y)\n",
    "\n",
    "x = np.array([2,2,8,1,15,8,12,9,7,3,11,4,7,14,12])\n",
    "y = np.array([100,105,84,105,90,99,90,95,94,100,79,112,91,80,85])\n",
    "plt.scatter(x, y)\n",
    "\n",
    "plt.show()"
   ]
  },
  {
   "cell_type": "code",
   "execution_count": 11,
   "metadata": {},
   "outputs": [
    {
     "data": {
      "image/png": "[encoded data removed]",
      "text/plain": [
       "<Figure size 432x288 with 1 Axes>"
      ]
     },
     "metadata": {
      "needs_background": "light"
     },
     "output_type": "display_data"
    }
   ],
   "source": [
    "# You can set your own color for each scatter plot with the color or the c argument:\n",
    "x = np.array([5,7,8,7,2,17,2,9,4,11,12,9,6])\n",
    "y = np.array([99,86,87,88,111,86,103,87,94,78,77,85,86])\n",
    "plt.scatter(x, y, color = 'hotpink')\n",
    "\n",
    "x = np.array([2,2,8,1,15,8,12,9,7,3,11,4,7,14,12])\n",
    "y = np.array([100,105,84,105,90,99,90,95,94,100,79,112,91,80,85])\n",
    "plt.scatter(x, y, color = '#88c999')\n",
    "\n",
    "plt.show()"
   ]
  },
  {
   "cell_type": "code",
   "execution_count": 12,
   "metadata": {},
   "outputs": [
    {
     "data": {
      "image/png": "[encoded data removed]",
      "text/plain": [
       "<Figure size 432x288 with 1 Axes>"
      ]
     },
     "metadata": {
      "needs_background": "light"
     },
     "output_type": "display_data"
    }
   ],
   "source": [
    "# Scatter plot with different shape and colour for two datasets\n",
    "\n",
    "# dataset-1\n",
    "x1 = [89, 43, 36, 36, 95, 10, 66, 34, 38, 20]\n",
    " \n",
    "y1 = [21, 46, 3, 35, 67, 95, 53, 72, 58, 10]\n",
    " \n",
    "# dataset2\n",
    "x2 = [26, 29, 48, 64, 6, 5, 36, 66, 72, 40]\n",
    " \n",
    "y2 = [26, 34, 90, 33, 38, 20, 56, 2, 47, 15]\n",
    " \n",
    "plt.scatter(x1, y1, c =\"pink\",\n",
    "            linewidths = 2,\n",
    "            marker =\"s\",\n",
    "            edgecolor =\"green\",\n",
    "            s = 50)\n",
    " \n",
    "plt.scatter(x2, y2, c =\"yellow\",\n",
    "            linewidths = 2,\n",
    "            marker =\"^\",\n",
    "            edgecolor =\"red\",\n",
    "            s = 200)\n",
    " \n",
    "plt.xlabel(\"X-axis\")\n",
    "plt.ylabel(\"Y-axis\")\n",
    "plt.show()"
   ]
  },
  {
   "cell_type": "markdown",
   "metadata": {},
   "source": [
    "## 3. Fill between"
   ]
  },
  {
   "cell_type": "code",
   "execution_count": 13,
   "metadata": {},
   "outputs": [
    {
     "data": {
      "image/png": "[encoded data removed]",
      "text/plain": [
       "<Figure size 432x288 with 1 Axes>"
      ]
     },
     "metadata": {
      "needs_background": "light"
     },
     "output_type": "display_data"
    }
   ],
   "source": [
    "# make data\n",
    "np.random.seed(1)\n",
    "x = np.linspace(0, 8, 16)\n",
    "y1 = 3 + 4*x/8 + np.random.uniform(0.0, 0.5, len(x))\n",
    "y2 = 1 + 2*x/8 + np.random.uniform(0.0, 0.5, len(x))\n",
    "\n",
    "# plot\n",
    "fig, ax = plt.subplots()\n",
    "\n",
    "ax.fill_between(x, y1, y2, alpha=.5, linewidth=0)\n",
    "ax.plot(x, (y1 + y2)/2, linewidth=2)\n",
    "\n",
    "ax.set(xlim=(0, 8), xticks=np.arange(1, 8),\n",
    "       ylim=(0, 8), yticks=np.arange(1, 8))\n",
    "\n",
    "plt.show()"
   ]
  },
  {
   "cell_type": "markdown",
   "metadata": {},
   "source": [
    "# TASK\n",
    "\n",
    "1.  Given the array: `n_arr = np.array([[10.5, 22.5, 3.8], [41, np.nan, np.nan]])`. Remove rows in Numpy array that contains non-numeric values?\n",
    "2.  Given the array: `x = np.array([1,2,3,4,5,1,2,1,1,1])`. Find the most frequent value\n",
    "3.  Create random vector of size 10 and replace the maximum value by 0"
   ]
  },
  {
   "cell_type": "markdown",
   "metadata": {},
   "source": [
    "# self-study\n",
    "\n",
    "1.  Pandas\n",
    "2.  seaborn"
   ]
  }
 ],
 "metadata": {
  "kernelspec": {
   "display_name": "Python 3.8.8 ('base')",
   "language": "python",
   "name": "python3"
  },
  "language_info": {
   "codemirror_mode": {
    "name": "ipython",
    "version": 3
   },
   "file_extension": ".py",
   "mimetype": "text/x-python",
   "name": "python",
   "nbconvert_exporter": "python",
   "pygments_lexer": "ipython3",
   "version": "3.8.8"
  },
  "orig_nbformat": 4,
  "vscode": {
   "interpreter": {
    "hash": "0b4ffc9c9a031070cdf645d18822cd1abb711111454341ec96112cbb04136171"
   }
  }
 },
 "nbformat": 4,
 "nbformat_minor": 2
}
