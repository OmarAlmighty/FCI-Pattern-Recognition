{
 "cells": [
  {
   "cell_type": "markdown",
   "metadata": {},
   "source": [
    "# Chapter 2: Probability Distributions"
   ]
  },
  {
   "cell_type": "code",
   "execution_count": 1,
   "metadata": {},
   "outputs": [],
   "source": [
    "import sys\n",
    "import numpy as np\n",
    "import matplotlib.pyplot as plt\n",
    "np.random.seed(1234)\n",
    "# import the prml package\n",
    "sys.path.append('F:\\\\fci\\\\Pattern Recognation\\\\Week 03 - Introduction')\n"
   ]
  },
  {
   "cell_type": "markdown",
   "metadata": {},
   "source": [
    "## Bernoulli Distribution - Maximum Likelihood Estimation"
   ]
  },
  {
   "cell_type": "code",
   "execution_count": 2,
   "metadata": {},
   "outputs": [
    {
     "name": "stdout",
     "output_type": "stream",
     "text": [
      "Bernoulli(\n",
      "    mu=0.6\n",
      ")\n"
     ]
    }
   ],
   "source": [
    "from prml.rv import Bernoulli\n",
    "\n",
    "# create the dataset\n",
    "dataset = np.array([1., 1., 1., 1., 1., 1., 0, 0, 0, 0])\n",
    "\n",
    "# fit a Bernoulli model\n",
    "model = Bernoulli()\n",
    "model.fit(dataset)\n",
    "\n",
    "print(model)  # prints mu, which is the probability that we get x=1"
   ]
  },
  {
   "cell_type": "code",
   "execution_count": 6,
   "metadata": {},
   "outputs": [
    {
     "name": "stdout",
     "output_type": "stream",
     "text": [
      "The proportion of zeros:  0.413\n",
      "The proportion of ones 0.587\n"
     ]
    }
   ],
   "source": [
    "num_exper = 1000\n",
    "\n",
    "samples = model.draw(num_exper)\n",
    "\n",
    "count_0 = np.count_nonzero(samples == 0.)\n",
    "count_1 = np.count_nonzero(samples == 1.)\n",
    "\n",
    "prop_0 = count_0 / num_exper  # Proportion of zeros\n",
    "prop_1 = count_1 / num_exper  # Proportion of ones\n",
    "\n",
    "print(\"The proportion of zeros: \", prop_0)\n",
    "print(\"The proportion of ones: \", prop_1)\n"
   ]
  },
  {
   "cell_type": "markdown",
   "metadata": {},
   "source": [
    "#### What if we have a dataset like this dataset = [1., 1., 1., 1.]"
   ]
  },
  {
   "cell_type": "code",
   "execution_count": 8,
   "metadata": {},
   "outputs": [
    {
     "name": "stdout",
     "output_type": "stream",
     "text": [
      "The proportion of zeros:  0.0\n",
      "The proportion of ones:  1.0\n"
     ]
    }
   ],
   "source": [
    "# create the dataset\n",
    "dataset = np.array([1., 1., 1., 1.])\n",
    "\n",
    "model = Bernoulli()\n",
    "model.fit(dataset)\n",
    "\n",
    "num_exper = 1000\n",
    "\n",
    "samples = model.draw(num_exper)\n",
    "\n",
    "count_0 = np.count_nonzero(samples == 0.)\n",
    "count_1 = np.count_nonzero(samples == 1.)\n",
    "\n",
    "prop_0 = count_0 / num_exper  # Proportion of zeros\n",
    "prop_1 = count_1 / num_exper  # Proportion of ones\n",
    "\n",
    "print(\"The proportion of zeros: \", prop_0)\n",
    "print(\"The proportion of ones: \", prop_1)\n"
   ]
  },
  {
   "cell_type": "markdown",
   "metadata": {},
   "source": [
    "## Bernoulli Distribution - Bayesian Estimation using Beta as a prior"
   ]
  },
  {
   "cell_type": "code",
   "execution_count": 13,
   "metadata": {},
   "outputs": [
    {
     "name": "stdout",
     "output_type": "stream",
     "text": [
      "Bernoulli(\n",
      "    mu=Beta(\n",
      "    )\n",
      ")\n"
     ]
    }
   ],
   "source": [
    "from prml.rv import Bernoulli\n",
    "from prml.rv import Beta\n",
    "np.random.seed(1234)\n",
    "\n",
    "# create the dataset\n",
    "dataset = np.array([1., 1., 1., 1., 1., 1., 1., 1., 1., 1.])\n",
    "\n",
    "x = np.linspace(0, 1, 100)\n",
    "beta = Beta(3, 2)\n",
    "pdf_beta = beta.pdf(x)\n",
    "\n",
    "# fit a Bernoulli model\n",
    "model = Bernoulli(mu=beta)\n",
    "model.fit(dataset)\n",
    "pdf_bern = model.mu.pdf(x)\n",
    "\n",
    "print(model)"
   ]
  },
  {
   "cell_type": "code",
   "execution_count": 15,
   "metadata": {},
   "outputs": [
    {
     "name": "stdout",
     "output_type": "stream",
     "text": [
      "The proportion of zeros:  0.195\n",
      "The proportion of ones:  0.805\n"
     ]
    }
   ],
   "source": [
    "num_exper = 1000\n",
    "\n",
    "samples = model.draw(num_exper)\n",
    "\n",
    "count_0 = np.count_nonzero(samples == 0.)\n",
    "count_1 = np.count_nonzero(samples == 1.)\n",
    "\n",
    "prop_0 = count_0 / num_exper  # Proportion of zeros\n",
    "prop_1 = count_1 / num_exper  # Proportion of ones\n",
    "\n",
    "print(\"The proportion of zeros: \", prop_0)\n",
    "print(\"The proportion of ones: \", prop_1)\n"
   ]
  },
  {
   "cell_type": "markdown",
   "metadata": {},
   "source": [
    "## Multinomial Distribution - Maximum Likelihood Estimation"
   ]
  },
  {
   "cell_type": "code",
   "execution_count": 19,
   "metadata": {},
   "outputs": [
    {
     "name": "stdout",
     "output_type": "stream",
     "text": [
      "Categorical(\n",
      "    mu=[0.3 0.3 0.4]\n",
      ")\n"
     ]
    }
   ],
   "source": [
    "from prml.rv import Categorical\n",
    "\n",
    "model = Categorical()\n",
    "dataset = np.array([\n",
    "    [1, 0, 0],\n",
    "    [0, 1, 0],\n",
    "    [1, 0, 0],\n",
    "    [0, 0, 1],\n",
    "    [0, 1, 0],\n",
    "    [1, 0, 0],\n",
    "    [0, 0, 1],\n",
    "    [0, 0, 1],\n",
    "    [0, 1, 0],\n",
    "    [0, 0, 1]\n",
    "])\n",
    "\n",
    "model.fit(dataset)  # computes the mu values\n",
    "\n",
    "print(model)"
   ]
  },
  {
   "cell_type": "code",
   "execution_count": 22,
   "metadata": {},
   "outputs": [
    {
     "name": "stdout",
     "output_type": "stream",
     "text": [
      "0.306\n",
      "0.283\n",
      "0.411\n"
     ]
    }
   ],
   "source": [
    "num_exper = 1000\n",
    "\n",
    "samples = model.draw(num_exper)\n",
    "\n",
    "# compute how many each feature occurs\n",
    "x_1 = samples[:, 0].sum()\n",
    "x_2 = samples[:, 1].sum()\n",
    "x_3 = samples[:, 2].sum()\n",
    "\n",
    "print(x_1/num_exper)\n",
    "print(x_2/num_exper)\n",
    "print(x_3/num_exper)\n"
   ]
  },
  {
   "cell_type": "code",
   "execution_count": 23,
   "metadata": {},
   "outputs": [
    {
     "name": "stdout",
     "output_type": "stream",
     "text": [
      "Categorical(\n",
      "    mu=[0. 0. 1.]\n",
      ")\n"
     ]
    }
   ],
   "source": [
    "model = Categorical()\n",
    "\n",
    "bad_dataset = np.array([\n",
    "    [0, 0, 1],\n",
    "    [0, 0, 1],\n",
    "    [0, 0, 1],\n",
    "    [0, 0, 1],\n",
    "    [0, 0, 1],\n",
    "    [0, 0, 1],\n",
    "    [0, 0, 1],\n",
    "    [0, 0, 1],\n",
    "    [0, 0, 1],\n",
    "    [0, 0, 1],\n",
    "])\n",
    "\n",
    "model.fit(bad_dataset)\n",
    "\n",
    "print(model)\n"
   ]
  },
  {
   "cell_type": "code",
   "execution_count": 15,
   "metadata": {},
   "outputs": [
    {
     "name": "stdout",
     "output_type": "stream",
     "text": [
      "0.0\n",
      "0.0\n",
      "1.0\n"
     ]
    }
   ],
   "source": [
    "# perform 1000 experiments\n",
    "# np.random.seed(1234)\n",
    "num_exper = 1000\n",
    "samples = []\n",
    "for i in range(num_exper):\n",
    "    samples.append(model.draw())  # draw a random sample\n",
    "\n",
    "# this converts the list into an array of size 100*1*3\n",
    "samples = np.array(samples)\n",
    "\n",
    "# compute how many each feature occurs\n",
    "x_1 = samples[:, :, 0].sum()\n",
    "x_2 = samples[:, :, 1].sum()\n",
    "x_3 = samples[:, :, 2].sum()\n",
    "print(x_1/num_exper)\n",
    "print(x_2/num_exper)\n",
    "print(x_3/num_exper)\n"
   ]
  },
  {
   "cell_type": "markdown",
   "metadata": {},
   "source": [
    "## Multinomial Distribution - Bayesian Estimation using Dirichlet distribution as a prior"
   ]
  },
  {
   "cell_type": "code",
   "execution_count": 26,
   "metadata": {},
   "outputs": [
    {
     "name": "stdout",
     "output_type": "stream",
     "text": [
      "Categorical(\n",
      "    mu=Dirichlet(\n",
      "        alpha=[2 3 5]\n",
      "    )\n",
      ")\n",
      "Categorical(\n",
      "    mu=Dirichlet(\n",
      "        alpha=[ 2  3 15]\n",
      "    )\n",
      ")\n"
     ]
    }
   ],
   "source": [
    "from prml.rv import Dirichlet\n",
    "\n",
    "alphas = np.array([2, 3, 5])\n",
    "dir = Dirichlet(alphas)\n",
    "model = Categorical(mu=dir)\n",
    "print(model)\n",
    "\n",
    "# fit the data on the same inbalanced dataset\n",
    "model.fit(bad_dataset)\n",
    "print(model)"
   ]
  },
  {
   "cell_type": "code",
   "execution_count": 27,
   "metadata": {},
   "outputs": [
    {
     "name": "stdout",
     "output_type": "stream",
     "text": [
      "[0.1  0.15 0.75]\n",
      "Categorical(\n",
      "    mu=[0.1  0.15 0.75]\n",
      ")\n",
      "0.098\n",
      "0.144\n",
      "0.758\n"
     ]
    }
   ],
   "source": [
    "# normalize the mu vector to sum up to 1\n",
    "mu = np.array([2, 3, 15])\n",
    "mu_norm = mu/mu.sum(axis=0, keepdims=0)\n",
    "print(mu_norm)\n",
    "\n",
    "model = Categorical(mu=mu_norm)\n",
    "print(model)\n",
    "\n",
    "num_exper = 1000\n",
    "\n",
    "preds = model.draw(num_exper)\n",
    "\n",
    "x_1 = preds[:, 0].sum()\n",
    "x_2 = preds[:, 1].sum()\n",
    "x_3 = preds[:, 2].sum()\n",
    "print(x_1/num_exper)\n",
    "print(x_2/num_exper)\n",
    "print(x_3/num_exper)\n"
   ]
  }
 ],
 "metadata": {
  "kernelspec": {
   "display_name": "Python 3.8.8 ('base')",
   "language": "python",
   "name": "python3"
  },
  "language_info": {
   "codemirror_mode": {
    "name": "ipython",
    "version": 3
   },
   "file_extension": ".py",
   "mimetype": "text/x-python",
   "name": "python",
   "nbconvert_exporter": "python",
   "pygments_lexer": "ipython3",
   "version": "3.8.8"
  },
  "orig_nbformat": 4,
  "vscode": {
   "interpreter": {
    "hash": "0b4ffc9c9a031070cdf645d18822cd1abb711111454341ec96112cbb04136171"
   }
  }
 },
 "nbformat": 4,
 "nbformat_minor": 2
}
